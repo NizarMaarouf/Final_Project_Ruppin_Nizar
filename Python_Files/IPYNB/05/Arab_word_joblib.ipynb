{
 "cells": [
  {
   "cell_type": "code",
   "execution_count": 1,
   "metadata": {},
   "outputs": [
    {
     "name": "stdout",
     "output_type": "stream",
     "text": [
      "\n",
      "\n",
      "Accuracy:  0.92\n",
      "The Outcome of this vector is :  [' Gtaa ']\n",
      "\n",
      "\n",
      "\n",
      "\n"
     ]
    }
   ],
   "source": [
    "# 4,6,0,0,0,2,0,3\n",
    "# 4,1,0,0,0,2,0,2\n",
    "# 4,2,0,0,0,1,0,3\n",
    "\n",
    "# Step1: Import required packages\n",
    "import sys\n",
    "import scipy\n",
    "import joblib\n",
    "import matplotlib\n",
    "import pandas as pd\n",
    "from sklearn import svm\n",
    "from sklearn import tree\n",
    "from sklearn.svm import SVC\n",
    "from sklearn.svm import LinearSVC\n",
    "from matplotlib import pyplot as plt\n",
    "from mlxtend.plotting import plot_decision_regions\n",
    "from sklearn.model_selection import train_test_split, GridSearchCV, cross_val_score\n",
    "from sklearn.metrics import plot_confusion_matrix, accuracy_score, classification_report\n",
    "\n",
    "# import warnings filter\n",
    "from warnings import simplefilter\n",
    "# ignore all future warnings\n",
    "simplefilter(action='ignore', category=FutureWarning)\n",
    "\n",
    "\n",
    "# Step2: Load dataset\n",
    "Arabic_word = pd.read_csv(r'C:\\Users\\nizar.maarouf\\Desktop\\NIZAR\\Arabic_Words.csv')\n",
    "\n",
    "# Step 3: Split the data in training and testing subsets\n",
    "\n",
    "x = Arabic_word.drop(columns = ['Outcome' , 'Word'])\n",
    "x = x.values\n",
    "y = Arabic_word['Outcome']\n",
    "x_tr, x_ts, y_tr, y_ts = train_test_split(x,y,test_size=0.1994 , random_state = 301)\n",
    "\n",
    "# Step 4: Classifier training using Support Vector Machine\n",
    "model = svm.SVC(gamma=\"auto\")\n",
    "model.fit(x_tr,y_tr)\n",
    "# tree.export_qraphviz(model.out_file ='Arabic_word.dot', feature_name = ['diacritic' ,'' , '' , '' , '' , '' ,])\n",
    "model = joblib.load('Arabic_word.joblib')\n",
    "\n",
    "# Step 5: make predict on test data and see result\n",
    "predict_vector = model.predict(x_ts)\n",
    "predictions = model.predict([[0,0,0,0,0,0,0,0]])\n",
    "if (predictions == 0):\n",
    "    predictions = [' Gtaa ']\n",
    "elif (predictions == 1):\n",
    "    predictions = [' Wasl ']\n",
    "else:\n",
    "    print('wrong !!!!!')    \n",
    "print('\\n')\n",
    "# Step 6: Check classifier accuracy on test data and see result\n",
    "print(\"Accuracy: \",accuracy_score(y_ts, predict_vector))\n",
    "print('The Outcome of this vector is : ' ,predictions)\n",
    "\n",
    "print('\\n')\n",
    "# Step 7: plot the Confusion matrix for our classifier\n",
    "# matrix = plot_confusion_matrix(model, x_ts, y_ts,cmap=plt.cm.Reds,normalize='true')\n",
    "# plt.title('Confusion matrix for our classifier')\n",
    "# plt.show(matrix)\n",
    "\n",
    "\n",
    "print('\\n')"
   ]
  }
 ],
 "metadata": {
  "kernelspec": {
   "display_name": "Python 3.9.13 64-bit",
   "language": "python",
   "name": "python3"
  },
  "language_info": {
   "codemirror_mode": {
    "name": "ipython",
    "version": 3
   },
   "file_extension": ".py",
   "mimetype": "text/x-python",
   "name": "python",
   "nbconvert_exporter": "python",
   "pygments_lexer": "ipython3",
   "version": "3.9.13"
  },
  "orig_nbformat": 4,
  "vscode": {
   "interpreter": {
    "hash": "662c70128e45798c53742372289ab16a67540d52117adad305809197f4de638f"
   }
  }
 },
 "nbformat": 4,
 "nbformat_minor": 2
}
