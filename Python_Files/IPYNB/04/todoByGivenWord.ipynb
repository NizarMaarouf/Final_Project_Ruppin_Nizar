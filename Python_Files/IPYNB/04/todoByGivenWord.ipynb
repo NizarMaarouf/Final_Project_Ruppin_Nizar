{
 "cells": [
  {
   "cell_type": "code",
   "execution_count": 6,
   "metadata": {},
   "outputs": [
    {
     "name": "stdout",
     "output_type": "stream",
     "text": [
      "Found  :  ['5', '1', '0', '0', '0', '2', '0', '1']\n",
      "outcome - هذه الكلمة تبدأ بهمزة القطع\n",
      "\n",
      "\n"
     ]
    }
   ],
   "source": [
    "import csv\n",
    "referencePath = (r'C:\\Users\\nizar.maarouf\\Desktop\\Final_Progect_Ruppin\\CSV_Files\\Data.csv')\n",
    "\n",
    "def WordToVector(givenWord):\n",
    "    File = open(referencePath,'r',encoding=\"utf8\")\n",
    "    Reader = csv.reader(File)\n",
    "    Data = list(Reader)\n",
    "    returnValue = []\n",
    "    for data  in Data:\n",
    "        if((data) != ['', '', '', '', '', '', '', '', '', '']):\n",
    "            if(data[0] == givenWord):\n",
    "                returnValue = data\n",
    "                break\n",
    "         \n",
    "    \n",
    "    File.close()  \n",
    "    \n",
    "    return returnValue\n",
    "    \n",
    "def main(): \n",
    "\n",
    "   \n",
    "    givenWord = input('Enter a word')\n",
    "    full_vector=WordToVector(givenWord)\n",
    "    outcome = []\n",
    "\n",
    "    if(full_vector != [] ):\n",
    "        #exist\n",
    "        #Filter vector\n",
    "        outcome = full_vector[len(full_vector) -1]\n",
    "        if(outcome == '1'):\n",
    "            outcome = 'هذه الكلمة تبدأ بهمزة الوصل'\n",
    "        else:\n",
    "            outcome = 'هذه الكلمة تبدأ بهمزة القطع'\n",
    "        newVector = full_vector[1:len(full_vector)- 1]\n",
    "        print('Found  : ' ,  newVector)\n",
    "     \n",
    "        print('outcome - ' + outcome)\n",
    "\n",
    "    else:\n",
    "        # not exist\n",
    "        print('Wrong input')\n",
    "\n",
    "\n",
    "\n",
    "\n",
    "\n",
    "    print('\\n')\n",
    "\n",
    "main()"
   ]
  }
 ],
 "metadata": {
  "kernelspec": {
   "display_name": "Python 3.9.13 64-bit",
   "language": "python",
   "name": "python3"
  },
  "language_info": {
   "codemirror_mode": {
    "name": "ipython",
    "version": 3
   },
   "file_extension": ".py",
   "mimetype": "text/x-python",
   "name": "python",
   "nbconvert_exporter": "python",
   "pygments_lexer": "ipython3",
   "version": "3.9.13"
  },
  "orig_nbformat": 4,
  "vscode": {
   "interpreter": {
    "hash": "11938c6bc6919ae2720b4d5011047913343b08a43b18698fd82dedb0d4417594"
   }
  }
 },
 "nbformat": 4,
 "nbformat_minor": 2
}
