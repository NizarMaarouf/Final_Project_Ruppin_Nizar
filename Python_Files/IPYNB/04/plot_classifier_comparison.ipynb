{
  "cells": [
    {
      "cell_type": "code",
      "execution_count": 90,
      "metadata": {},
      "outputs": [],
      "source": [
        "import numpy as np    # linear algebra\n",
        "import pandas as pd   # data processing, CSV file I/O (e.g. pd.read_csv)\n",
        "import sys\n",
        "import scipy\n",
        "import matplotlib\n",
        "import sklearn\n",
        "import statsmodels.api as sm\n",
        "import statsmodels.formula.api as smf\n",
        "import matplotlib.pyplot as plt\n",
        "from sklearn.preprocessing import scale \n",
        "from sklearn import model_selection\n",
        "from sklearn.model_selection import train_test_split, GridSearchCV, cross_val_score\n",
        "from sklearn.metrics import roc_auc_score,roc_curve,plot_confusion_matrix,confusion_matrix, accuracy_score, classification_report\n",
        "from sklearn.neighbors import KNeighborsClassifier\n",
        "from sklearn.discriminant_analysis import LinearDiscriminantAnalysis\n",
        "from sklearn.linear_model import LogisticRegression\n",
        "from sklearn.svm import SVC\n",
        "from sklearn.naive_bayes import GaussianNB\n",
        "from sklearn import tree\n",
        "from sklearn.ensemble import RandomForestClassifier\n",
        "from sklearn.tree import DecisionTreeClassifier\n",
        "from sklearn.model_selection import StratifiedKFold\n",
        "\n",
        "from warnings import filterwarnings\n",
        "filterwarnings('ignore')\n"
      ]
    },
    {
      "cell_type": "code",
      "execution_count": 3,
      "metadata": {},
      "outputs": [
        {
          "name": "stdout",
          "output_type": "stream",
          "text": [
            "Python : 3.10.1 (tags/v3.10.1:2cd268a, Dec  6 2021, 19:10:37) [MSC v.1929 64 bit (AMD64)]\n",
            "Scipy : 1.7.3\n",
            "Numpy : 1.21.5\n",
            "Pandas : 1.3.5\n",
            "Matplotlib : 3.5.1\n",
            "Sklearn : 1.0.2\n"
          ]
        }
      ],
      "source": [
        "print('Python : {}'.format(sys.version))\n",
        "print('Scipy : {}'.format(scipy.__version__))\n",
        "print('Numpy : {}'.format(np.__version__))\n",
        "print('Pandas : {}'.format(pd.__version__))\n",
        "print('Matplotlib : {}'.format(matplotlib.__version__))\n",
        "print('Sklearn : {}'.format(sklearn.__version__))"
      ]
    },
    {
      "cell_type": "code",
      "execution_count": 4,
      "metadata": {},
      "outputs": [
        {
          "data": {
            "text/html": [
              "<div>\n",
              "<style scoped>\n",
              "    .dataframe tbody tr th:only-of-type {\n",
              "        vertical-align: middle;\n",
              "    }\n",
              "\n",
              "    .dataframe tbody tr th {\n",
              "        vertical-align: top;\n",
              "    }\n",
              "\n",
              "    .dataframe thead th {\n",
              "        text-align: right;\n",
              "    }\n",
              "</style>\n",
              "<table border=\"1\" class=\"dataframe\">\n",
              "  <thead>\n",
              "    <tr style=\"text-align: right;\">\n",
              "      <th></th>\n",
              "      <th>Word</th>\n",
              "      <th>Count</th>\n",
              "      <th>Noun</th>\n",
              "      <th>Verb</th>\n",
              "      <th>Letter</th>\n",
              "      <th>adjective</th>\n",
              "      <th>morphological</th>\n",
              "      <th>The</th>\n",
              "      <th>diacritic</th>\n",
              "      <th>Outcome</th>\n",
              "    </tr>\n",
              "  </thead>\n",
              "  <tbody>\n",
              "    <tr>\n",
              "      <th>0</th>\n",
              "      <td>8e117a32510d41082681de68937befd3f564c349067ec5...</td>\n",
              "      <td>4.0</td>\n",
              "      <td>1.0</td>\n",
              "      <td>0.0</td>\n",
              "      <td>0.0</td>\n",
              "      <td>0.0</td>\n",
              "      <td>2.0</td>\n",
              "      <td>0.0</td>\n",
              "      <td>2.0</td>\n",
              "      <td>0.0</td>\n",
              "    </tr>\n",
              "    <tr>\n",
              "      <th>1</th>\n",
              "      <td>b401e637ead22b50ca3012befa3c55901d2248781750ed...</td>\n",
              "      <td>5.0</td>\n",
              "      <td>1.0</td>\n",
              "      <td>0.0</td>\n",
              "      <td>0.0</td>\n",
              "      <td>0.0</td>\n",
              "      <td>2.0</td>\n",
              "      <td>0.0</td>\n",
              "      <td>3.0</td>\n",
              "      <td>0.0</td>\n",
              "    </tr>\n",
              "    <tr>\n",
              "      <th>2</th>\n",
              "      <td>c2132540fedae6dba455d57553753448f7685171ac60dd...</td>\n",
              "      <td>5.0</td>\n",
              "      <td>1.0</td>\n",
              "      <td>0.0</td>\n",
              "      <td>0.0</td>\n",
              "      <td>0.0</td>\n",
              "      <td>2.0</td>\n",
              "      <td>0.0</td>\n",
              "      <td>1.0</td>\n",
              "      <td>0.0</td>\n",
              "    </tr>\n",
              "    <tr>\n",
              "      <th>3</th>\n",
              "      <td>f0993ec4ddf41ffe8b87ecd35fa09be5a7d56ab0424875...</td>\n",
              "      <td>4.0</td>\n",
              "      <td>1.0</td>\n",
              "      <td>0.0</td>\n",
              "      <td>0.0</td>\n",
              "      <td>0.0</td>\n",
              "      <td>2.0</td>\n",
              "      <td>0.0</td>\n",
              "      <td>1.0</td>\n",
              "      <td>0.0</td>\n",
              "    </tr>\n",
              "    <tr>\n",
              "      <th>4</th>\n",
              "      <td>3fa07d2ebd61fb0384890778f359a7c873fc429d18a71b...</td>\n",
              "      <td>4.0</td>\n",
              "      <td>1.0</td>\n",
              "      <td>0.0</td>\n",
              "      <td>0.0</td>\n",
              "      <td>0.0</td>\n",
              "      <td>2.0</td>\n",
              "      <td>0.0</td>\n",
              "      <td>1.0</td>\n",
              "      <td>0.0</td>\n",
              "    </tr>\n",
              "  </tbody>\n",
              "</table>\n",
              "</div>"
            ],
            "text/plain": [
              "                                                Word  Count  Noun  Verb  \\\n",
              "0  8e117a32510d41082681de68937befd3f564c349067ec5...    4.0   1.0   0.0   \n",
              "1  b401e637ead22b50ca3012befa3c55901d2248781750ed...    5.0   1.0   0.0   \n",
              "2  c2132540fedae6dba455d57553753448f7685171ac60dd...    5.0   1.0   0.0   \n",
              "3  f0993ec4ddf41ffe8b87ecd35fa09be5a7d56ab0424875...    4.0   1.0   0.0   \n",
              "4  3fa07d2ebd61fb0384890778f359a7c873fc429d18a71b...    4.0   1.0   0.0   \n",
              "\n",
              "   Letter  adjective  morphological  The  diacritic  Outcome  \n",
              "0     0.0        0.0            2.0  0.0        2.0      0.0  \n",
              "1     0.0        0.0            2.0  0.0        3.0      0.0  \n",
              "2     0.0        0.0            2.0  0.0        1.0      0.0  \n",
              "3     0.0        0.0            2.0  0.0        1.0      0.0  \n",
              "4     0.0        0.0            2.0  0.0        1.0      0.0  "
            ]
          },
          "execution_count": 4,
          "metadata": {},
          "output_type": "execute_result"
        }
      ],
      "source": [
        "data = pd.read_csv (r'C:\\Users\\nizar.maarouf\\Desktop\\project2021\\Arabic_Words.csv').head(376)\n",
        "data.head()"
      ]
    },
    {
      "cell_type": "code",
      "execution_count": 5,
      "metadata": {},
      "outputs": [
        {
          "data": {
            "text/html": [
              "<div>\n",
              "<style scoped>\n",
              "    .dataframe tbody tr th:only-of-type {\n",
              "        vertical-align: middle;\n",
              "    }\n",
              "\n",
              "    .dataframe tbody tr th {\n",
              "        vertical-align: top;\n",
              "    }\n",
              "\n",
              "    .dataframe thead th {\n",
              "        text-align: right;\n",
              "    }\n",
              "</style>\n",
              "<table border=\"1\" class=\"dataframe\">\n",
              "  <thead>\n",
              "    <tr style=\"text-align: right;\">\n",
              "      <th></th>\n",
              "      <th>Word</th>\n",
              "      <th>Count</th>\n",
              "      <th>Noun</th>\n",
              "      <th>Verb</th>\n",
              "      <th>Letter</th>\n",
              "      <th>adjective</th>\n",
              "      <th>morphological</th>\n",
              "      <th>The</th>\n",
              "      <th>diacritic</th>\n",
              "      <th>Outcome</th>\n",
              "    </tr>\n",
              "  </thead>\n",
              "  <tbody>\n",
              "    <tr>\n",
              "      <th>313</th>\n",
              "      <td>661a568b46bcb7b24fe4232e3a201b14c1903b8c394db9...</td>\n",
              "      <td>2.0</td>\n",
              "      <td>0.0</td>\n",
              "      <td>0.0</td>\n",
              "      <td>1.0</td>\n",
              "      <td>0.0</td>\n",
              "      <td>1.0</td>\n",
              "      <td>0.0</td>\n",
              "      <td>1.0</td>\n",
              "      <td>0.0</td>\n",
              "    </tr>\n",
              "    <tr>\n",
              "      <th>314</th>\n",
              "      <td>9216dd4a2f0b1115ae30f8f99069e5f9f37ffcbfcab0a7...</td>\n",
              "      <td>2.0</td>\n",
              "      <td>0.0</td>\n",
              "      <td>0.0</td>\n",
              "      <td>1.0</td>\n",
              "      <td>0.0</td>\n",
              "      <td>1.0</td>\n",
              "      <td>0.0</td>\n",
              "      <td>1.0</td>\n",
              "      <td>0.0</td>\n",
              "    </tr>\n",
              "    <tr>\n",
              "      <th>312</th>\n",
              "      <td>3d278a63ff49d322a91e51f3191a027458743828c1f620...</td>\n",
              "      <td>2.0</td>\n",
              "      <td>0.0</td>\n",
              "      <td>0.0</td>\n",
              "      <td>1.0</td>\n",
              "      <td>0.0</td>\n",
              "      <td>1.0</td>\n",
              "      <td>0.0</td>\n",
              "      <td>2.0</td>\n",
              "      <td>0.0</td>\n",
              "    </tr>\n",
              "    <tr>\n",
              "      <th>59</th>\n",
              "      <td>519e7e53fa9f4d008d93b620b86fdf0badd3824b2b1733...</td>\n",
              "      <td>2.0</td>\n",
              "      <td>0.0</td>\n",
              "      <td>0.0</td>\n",
              "      <td>0.0</td>\n",
              "      <td>0.0</td>\n",
              "      <td>1.0</td>\n",
              "      <td>0.0</td>\n",
              "      <td>2.0</td>\n",
              "      <td>0.0</td>\n",
              "    </tr>\n",
              "    <tr>\n",
              "      <th>374</th>\n",
              "      <td>ca275a27a116ff0e38aa5826c53e6c69bf57a3ee839b26...</td>\n",
              "      <td>2.0</td>\n",
              "      <td>5.0</td>\n",
              "      <td>0.0</td>\n",
              "      <td>0.0</td>\n",
              "      <td>0.0</td>\n",
              "      <td>1.0</td>\n",
              "      <td>0.0</td>\n",
              "      <td>1.0</td>\n",
              "      <td>0.0</td>\n",
              "    </tr>\n",
              "  </tbody>\n",
              "</table>\n",
              "</div>"
            ],
            "text/plain": [
              "                                                  Word  Count  Noun  Verb  \\\n",
              "313  661a568b46bcb7b24fe4232e3a201b14c1903b8c394db9...    2.0   0.0   0.0   \n",
              "314  9216dd4a2f0b1115ae30f8f99069e5f9f37ffcbfcab0a7...    2.0   0.0   0.0   \n",
              "312  3d278a63ff49d322a91e51f3191a027458743828c1f620...    2.0   0.0   0.0   \n",
              "59   519e7e53fa9f4d008d93b620b86fdf0badd3824b2b1733...    2.0   0.0   0.0   \n",
              "374  ca275a27a116ff0e38aa5826c53e6c69bf57a3ee839b26...    2.0   5.0   0.0   \n",
              "\n",
              "     Letter  adjective  morphological  The  diacritic  Outcome  \n",
              "313     1.0        0.0            1.0  0.0        1.0      0.0  \n",
              "314     1.0        0.0            1.0  0.0        1.0      0.0  \n",
              "312     1.0        0.0            1.0  0.0        2.0      0.0  \n",
              "59      0.0        0.0            1.0  0.0        2.0      0.0  \n",
              "374     0.0        0.0            1.0  0.0        1.0      0.0  "
            ]
          },
          "execution_count": 5,
          "metadata": {},
          "output_type": "execute_result"
        }
      ],
      "source": [
        "data.sort_values(by='Count').head()"
      ]
    },
    {
      "cell_type": "markdown",
      "metadata": {},
      "source": [
        "## ####################################################################################################################################################################"
      ]
    },
    {
      "cell_type": "markdown",
      "metadata": {},
      "source": [
        "## EDA (Exploratory Data Analysis)"
      ]
    },
    {
      "cell_type": "code",
      "execution_count": 6,
      "metadata": {},
      "outputs": [
        {
          "name": "stdout",
          "output_type": "stream",
          "text": [
            "(376, 10)\n"
          ]
        }
      ],
      "source": [
        "print(data.shape)"
      ]
    },
    {
      "cell_type": "code",
      "execution_count": 7,
      "metadata": {},
      "outputs": [
        {
          "name": "stdout",
          "output_type": "stream",
          "text": [
            "Outcome\n",
            "0.0    207\n",
            "1.0    169\n",
            "dtype: int64\n"
          ]
        }
      ],
      "source": [
        "print(data.groupby('Outcome').size())"
      ]
    },
    {
      "cell_type": "code",
      "execution_count": 8,
      "metadata": {},
      "outputs": [
        {
          "name": "stdout",
          "output_type": "stream",
          "text": [
            "<class 'pandas.core.frame.DataFrame'>\n",
            "RangeIndex: 376 entries, 0 to 375\n",
            "Data columns (total 10 columns):\n",
            " #   Column         Non-Null Count  Dtype  \n",
            "---  ------         --------------  -----  \n",
            " 0   Word           376 non-null    object \n",
            " 1   Count          376 non-null    float64\n",
            " 2   Noun           376 non-null    float64\n",
            " 3   Verb           376 non-null    float64\n",
            " 4   Letter         376 non-null    float64\n",
            " 5   adjective      376 non-null    float64\n",
            " 6   morphological  376 non-null    float64\n",
            " 7   The            376 non-null    float64\n",
            " 8   diacritic      376 non-null    float64\n",
            " 9   Outcome        376 non-null    float64\n",
            "dtypes: float64(9), object(1)\n",
            "memory usage: 29.5+ KB\n"
          ]
        }
      ],
      "source": [
        "data.info() "
      ]
    },
    {
      "cell_type": "code",
      "execution_count": 9,
      "metadata": {},
      "outputs": [
        {
          "data": {
            "text/html": [
              "<div>\n",
              "<style scoped>\n",
              "    .dataframe tbody tr th:only-of-type {\n",
              "        vertical-align: middle;\n",
              "    }\n",
              "\n",
              "    .dataframe tbody tr th {\n",
              "        vertical-align: top;\n",
              "    }\n",
              "\n",
              "    .dataframe thead th {\n",
              "        text-align: right;\n",
              "    }\n",
              "</style>\n",
              "<table border=\"1\" class=\"dataframe\">\n",
              "  <thead>\n",
              "    <tr style=\"text-align: right;\">\n",
              "      <th></th>\n",
              "      <th>count</th>\n",
              "      <th>mean</th>\n",
              "      <th>std</th>\n",
              "      <th>min</th>\n",
              "      <th>25%</th>\n",
              "      <th>50%</th>\n",
              "      <th>75%</th>\n",
              "      <th>max</th>\n",
              "    </tr>\n",
              "  </thead>\n",
              "  <tbody>\n",
              "    <tr>\n",
              "      <th>Count</th>\n",
              "      <td>376.0</td>\n",
              "      <td>4.659574</td>\n",
              "      <td>1.180311</td>\n",
              "      <td>2.0</td>\n",
              "      <td>4.0</td>\n",
              "      <td>5.0</td>\n",
              "      <td>5.0</td>\n",
              "      <td>8.0</td>\n",
              "    </tr>\n",
              "    <tr>\n",
              "      <th>Noun</th>\n",
              "      <td>376.0</td>\n",
              "      <td>2.765957</td>\n",
              "      <td>2.924565</td>\n",
              "      <td>0.0</td>\n",
              "      <td>0.0</td>\n",
              "      <td>1.0</td>\n",
              "      <td>6.0</td>\n",
              "      <td>9.0</td>\n",
              "    </tr>\n",
              "    <tr>\n",
              "      <th>Verb</th>\n",
              "      <td>376.0</td>\n",
              "      <td>0.867021</td>\n",
              "      <td>1.230015</td>\n",
              "      <td>0.0</td>\n",
              "      <td>0.0</td>\n",
              "      <td>0.0</td>\n",
              "      <td>1.0</td>\n",
              "      <td>3.0</td>\n",
              "    </tr>\n",
              "    <tr>\n",
              "      <th>Letter</th>\n",
              "      <td>376.0</td>\n",
              "      <td>0.039894</td>\n",
              "      <td>0.195970</td>\n",
              "      <td>0.0</td>\n",
              "      <td>0.0</td>\n",
              "      <td>0.0</td>\n",
              "      <td>0.0</td>\n",
              "      <td>1.0</td>\n",
              "    </tr>\n",
              "    <tr>\n",
              "      <th>adjective</th>\n",
              "      <td>376.0</td>\n",
              "      <td>0.031915</td>\n",
              "      <td>0.176008</td>\n",
              "      <td>0.0</td>\n",
              "      <td>0.0</td>\n",
              "      <td>0.0</td>\n",
              "      <td>0.0</td>\n",
              "      <td>1.0</td>\n",
              "    </tr>\n",
              "    <tr>\n",
              "      <th>morphological</th>\n",
              "      <td>376.0</td>\n",
              "      <td>4.273936</td>\n",
              "      <td>2.915149</td>\n",
              "      <td>1.0</td>\n",
              "      <td>2.0</td>\n",
              "      <td>2.0</td>\n",
              "      <td>7.0</td>\n",
              "      <td>11.0</td>\n",
              "    </tr>\n",
              "    <tr>\n",
              "      <th>The</th>\n",
              "      <td>376.0</td>\n",
              "      <td>0.095745</td>\n",
              "      <td>0.294633</td>\n",
              "      <td>0.0</td>\n",
              "      <td>0.0</td>\n",
              "      <td>0.0</td>\n",
              "      <td>0.0</td>\n",
              "      <td>1.0</td>\n",
              "    </tr>\n",
              "    <tr>\n",
              "      <th>diacritic</th>\n",
              "      <td>376.0</td>\n",
              "      <td>1.726064</td>\n",
              "      <td>0.756808</td>\n",
              "      <td>1.0</td>\n",
              "      <td>1.0</td>\n",
              "      <td>2.0</td>\n",
              "      <td>2.0</td>\n",
              "      <td>4.0</td>\n",
              "    </tr>\n",
              "    <tr>\n",
              "      <th>Outcome</th>\n",
              "      <td>376.0</td>\n",
              "      <td>0.449468</td>\n",
              "      <td>0.498103</td>\n",
              "      <td>0.0</td>\n",
              "      <td>0.0</td>\n",
              "      <td>0.0</td>\n",
              "      <td>1.0</td>\n",
              "      <td>1.0</td>\n",
              "    </tr>\n",
              "  </tbody>\n",
              "</table>\n",
              "</div>"
            ],
            "text/plain": [
              "               count      mean       std  min  25%  50%  75%   max\n",
              "Count          376.0  4.659574  1.180311  2.0  4.0  5.0  5.0   8.0\n",
              "Noun           376.0  2.765957  2.924565  0.0  0.0  1.0  6.0   9.0\n",
              "Verb           376.0  0.867021  1.230015  0.0  0.0  0.0  1.0   3.0\n",
              "Letter         376.0  0.039894  0.195970  0.0  0.0  0.0  0.0   1.0\n",
              "adjective      376.0  0.031915  0.176008  0.0  0.0  0.0  0.0   1.0\n",
              "morphological  376.0  4.273936  2.915149  1.0  2.0  2.0  7.0  11.0\n",
              "The            376.0  0.095745  0.294633  0.0  0.0  0.0  0.0   1.0\n",
              "diacritic      376.0  1.726064  0.756808  1.0  1.0  2.0  2.0   4.0\n",
              "Outcome        376.0  0.449468  0.498103  0.0  0.0  0.0  1.0   1.0"
            ]
          },
          "execution_count": 9,
          "metadata": {},
          "output_type": "execute_result"
        }
      ],
      "source": [
        "data.describe().T"
      ]
    },
    {
      "cell_type": "code",
      "execution_count": 10,
      "metadata": {},
      "outputs": [
        {
          "data": {
            "image/png": "[encoded data removed]",
            "text/plain": [
              "<Figure size 432x288 with 1 Axes>"
            ]
          },
          "metadata": {
            "needs_background": "light"
          },
          "output_type": "display_data"
        }
      ],
      "source": [
        "# Bar בתור  Outcome בוא נראה 0, 1 מספרים של\n",
        "data['Outcome'].value_counts().plot.barh();"
      ]
    },
    {
      "cell_type": "code",
      "execution_count": 11,
      "metadata": {},
      "outputs": [],
      "source": [
        "#(תכונה שאיננו צריכים ,נרצה לשחרר אותה)\n",
        "data.drop(\"Word\", inplace = True, axis=1) \n",
        "y = data['Outcome'].values\n",
        "x = data.drop([\"Outcome\"], axis = 1)"
      ]
    },
    {
      "cell_type": "code",
      "execution_count": 12,
      "metadata": {},
      "outputs": [
        {
          "data": {
            "text/plain": [
              "Count            0\n",
              "Noun             0\n",
              "Verb             0\n",
              "Letter           0\n",
              "adjective        0\n",
              "morphological    0\n",
              "The              0\n",
              "diacritic        0\n",
              "Outcome          0\n",
              "dtype: int64"
            ]
          },
          "execution_count": 12,
          "metadata": {},
          "output_type": "execute_result"
        }
      ],
      "source": [
        "data.isnull().sum()  #(see how many null values we have then we don't need to normalize)"
      ]
    },
    {
      "cell_type": "markdown",
      "metadata": {},
      "source": [
        "## #########################################################################################################################################################################"
      ]
    },
    {
      "cell_type": "markdown",
      "metadata": {},
      "source": [
        "## Logistic Regression"
      ]
    },
    {
      "cell_type": "code",
      "execution_count": 156,
      "metadata": {},
      "outputs": [],
      "source": [
        "# x_train, x_test, y_train, y_test = train_test_split(x, y, test_size = 0.33, random_state = 232)"
      ]
    },
    {
      "cell_type": "code",
      "execution_count": 356,
      "metadata": {},
      "outputs": [],
      "source": [
        "# lr_model = LogisticRegression(solver = \"liblinear\")    #(רגרסיה לוגיסטית)\n",
        "# lr = lr_model.fit(x,y)                             #(הגדר את הדגם)\n",
        "# lr_model"
      ]
    },
    {
      "cell_type": "code",
      "execution_count": 355,
      "metadata": {},
      "outputs": [],
      "source": [
        "# lr_model.intercept_      # (ערכים קבועים)\n",
        "# lr_model.coef_           # (ערכים עצמאיים)"
      ]
    },
    {
      "cell_type": "markdown",
      "metadata": {},
      "source": [
        "## Predict & Model Tuning"
      ]
    },
    {
      "cell_type": "code",
      "execution_count": 354,
      "metadata": {},
      "outputs": [],
      "source": [
        "# y_pred = lr_model.predict(x)       #(predict)\n",
        "# confusion_matrix(y, y_pred)        #(confussion matrix)"
      ]
    },
    {
      "cell_type": "code",
      "execution_count": 353,
      "metadata": {},
      "outputs": [],
      "source": [
        "# accuracy_score(y, y_pred)"
      ]
    },
    {
      "cell_type": "code",
      "execution_count": 352,
      "metadata": {},
      "outputs": [],
      "source": [
        "# print(classification_report(y, y_pred))"
      ]
    },
    {
      "cell_type": "code",
      "execution_count": 351,
      "metadata": {},
      "outputs": [],
      "source": [
        "# lr_model.predict(x)[0:50]   # Model predict"
      ]
    },
    {
      "cell_type": "code",
      "execution_count": 350,
      "metadata": {},
      "outputs": [],
      "source": [
        "# lr_model.predict_proba(x)[0:10][:,0:2]"
      ]
    },
    {
      "cell_type": "markdown",
      "metadata": {},
      "source": [
        "### Now lets try model 'predict_proba' probability"
      ]
    },
    {
      "cell_type": "code",
      "execution_count": 349,
      "metadata": {},
      "outputs": [],
      "source": [
        "# y_probs = lr_model.predict_proba(x)\n",
        "# y_probs = y_probs[:,1]\n",
        "# print(y_probs[21:60])"
      ]
    },
    {
      "cell_type": "code",
      "execution_count": 165,
      "metadata": {},
      "outputs": [],
      "source": [
        "# y_pred = [1 if i > 0.5 else 0 for i in y_probs]   # giving limit for values"
      ]
    },
    {
      "cell_type": "code",
      "execution_count": 348,
      "metadata": {},
      "outputs": [],
      "source": [
        "# print(y_pred[21:60]) # and compare with above you can see what happened"
      ]
    },
    {
      "cell_type": "code",
      "execution_count": 347,
      "metadata": {},
      "outputs": [],
      "source": [
        "# confusion_matrix(y, y_pred)"
      ]
    },
    {
      "cell_type": "code",
      "execution_count": 346,
      "metadata": {},
      "outputs": [],
      "source": [
        "# accuracy_score(y, y_pred)"
      ]
    },
    {
      "cell_type": "code",
      "execution_count": 345,
      "metadata": {},
      "outputs": [],
      "source": [
        "# print(classification_report(y, y_pred))"
      ]
    },
    {
      "cell_type": "code",
      "execution_count": 344,
      "metadata": {},
      "outputs": [],
      "source": [
        "# logit_roc_auc = roc_auc_score(y, lr_model.predict(x))\n",
        "# fpr, tpr, thresholds = roc_curve(y, lr_model.predict_proba(x)[:,1])\n",
        "# plt.figure()\n",
        "# plt.plot(fpr, tpr, label='AUC (area = %0.2f)' % logit_roc_auc, color=\"red\")\n",
        "# plt.plot([0, 1], [0, 1], color=\"navy\", lw=2, linestyle=\"--\")\n",
        "# plt.xlim([0.0, 1.0])\n",
        "# plt.ylim([0.0, 1.05])\n",
        "# plt.xlabel('False Positive Rate',size=15,color=\"g\")\n",
        "# plt.ylabel('True Positive Rate',size=15,color=\"g\")\n",
        "# plt.title('Receiver operating characteristic',size=15,color=\"r\")\n",
        "# plt.legend(loc=\"lower right\")\n",
        "# plt.show()\n",
        "\n",
        "# red line: which we set our model\n",
        "# blue line: if we dont do it what can we take result\n",
        "# Area under the ROC curve is one of the most useful metrics to evaluate a supervised classification model"
      ]
    },
    {
      "cell_type": "code",
      "execution_count": 171,
      "metadata": {},
      "outputs": [],
      "source": [
        "# x_train, x_test, y_train, y_test = train_test_split(x, y, test_size = 0.33, random_state = 208)"
      ]
    },
    {
      "cell_type": "code",
      "execution_count": 343,
      "metadata": {},
      "outputs": [],
      "source": [
        "# lr=LogisticRegression(C=1.0, class_weight=None, dual=False, fit_intercept=True,\n",
        "#                    intercept_scaling=1, l1_ratio=None, max_iter=100,\n",
        "#                    multi_class='auto', n_jobs=None, penalty='l2',\n",
        "#                    random_state=None, solver='liblinear', tol=0.0001, verbose=0,\n",
        "#                    warm_start=False)\n",
        "# lr = LogisticRegression(solver = \"liblinear\")\n",
        "# lr_model = lr.fit(x_train,y_train)\n",
        "# lr_model"
      ]
    },
    {
      "cell_type": "code",
      "execution_count": 342,
      "metadata": {},
      "outputs": [],
      "source": [
        "# accuracy_score(y_test, lr_model.predict(x_test))"
      ]
    },
    {
      "cell_type": "code",
      "execution_count": 174,
      "metadata": {},
      "outputs": [
        {
          "data": {
            "text/plain": [
              "0.8166666666666667"
            ]
          },
          "execution_count": 174,
          "metadata": {},
          "output_type": "execute_result"
        }
      ],
      "source": [
        "# cross_val_score(lr_model, x_test, y_test, cv = 10).mean()"
      ]
    },
    {
      "cell_type": "markdown",
      "metadata": {},
      "source": [
        "## ##################################################################################################################################################################"
      ]
    },
    {
      "cell_type": "markdown",
      "metadata": {},
      "source": [
        "## Gaussian Naive Bayes"
      ]
    },
    {
      "cell_type": "code",
      "execution_count": 428,
      "metadata": {},
      "outputs": [
        {
          "data": {
            "text/plain": [
              "MultinomialNB()"
            ]
          },
          "execution_count": 428,
          "metadata": {},
          "output_type": "execute_result"
        }
      ],
      "source": [
        "x_train, x_validation, y_train, y_test = train_test_split(x, y, test_size = 0.33, random_state = 252)\n",
        "nb =  MultinomialNB()\n",
        "# nb = GaussianNB(priors=None, var_smoothing=1e-09)\n",
        "nb_model = nb.fit(x_train, y_train)\n",
        "y_pred = nb_model.predict(x_validation)  # predict\n",
        "nb_model"
      ]
    },
    {
      "cell_type": "code",
      "execution_count": 429,
      "metadata": {},
      "outputs": [
        {
          "data": {
            "text/plain": [
              "0.68"
            ]
          },
          "execution_count": 429,
          "metadata": {},
          "output_type": "execute_result"
        }
      ],
      "source": [
        "accuracy_score(y_test, y_pred)\n"
      ]
    },
    {
      "cell_type": "code",
      "execution_count": 341,
      "metadata": {},
      "outputs": [],
      "source": [
        "# cross_val_score(lr_model, x_test, y_test, cv = 10).mean()"
      ]
    },
    {
      "cell_type": "code",
      "execution_count": 279,
      "metadata": {},
      "outputs": [
        {
          "name": "stdout",
          "output_type": "stream",
          "text": [
            "              precision    recall  f1-score   support\n",
            "\n",
            "         0.0       0.69      0.69      0.69        64\n",
            "         1.0       0.67      0.67      0.67        61\n",
            "\n",
            "    accuracy                           0.68       125\n",
            "   macro avg       0.68      0.68      0.68       125\n",
            "weighted avg       0.68      0.68      0.68       125\n",
            "\n"
          ]
        }
      ],
      "source": [
        "print(classification_report(y_test, y_pred)) # get detail print"
      ]
    },
    {
      "cell_type": "code",
      "execution_count": 324,
      "metadata": {},
      "outputs": [
        {
          "data": {
            "image/png": "[encoded data removed]",
            "text/plain": [
              "<Figure size 432x288 with 2 Axes>"
            ]
          },
          "metadata": {
            "needs_background": "light"
          },
          "output_type": "display_data"
        }
      ],
      "source": [
        "from sklearn.metrics import plot_confusion_matrix\n",
        "from sklearn import svm\n",
        "import numpy as np    # linear algebra\n",
        "import pandas as pd   # data processing, CSV file I/O (e.g. pd.read_csv)\n",
        "import sys\n",
        "import scipy\n",
        "import matplotlib\n",
        "import sklearn\n",
        "from mlxtend.plotting import plot_decision_regions\n",
        "data = pd.read_csv (r'C:\\Users\\nizar.maarouf\\Desktop\\project2021\\Arabic_Words.csv').head(376)\n",
        "data.drop(\"Word\", inplace = True, axis=1) \n",
        "y = data['Outcome'].values\n",
        "x = data.drop([\"Outcome\"], axis = 1)\n",
        "x_train, x_test, y_train, y_test = train_test_split(x, y, test_size = 0.33, random_state = 252)\n",
        "nb =  MultinomialNB()\n",
        "nb_model.fit(x_train, y_train)\n",
        "matrix = plot_confusion_matrix(nb_model, x_test, y_test,cmap=plt.cm.Greens,normalize='true')\n",
        "plt.title('Confusion matrix for our classifier')\n",
        "plt.show(matrix)\n",
        "plt.show()"
      ]
    },
    {
      "cell_type": "code",
      "execution_count": 340,
      "metadata": {},
      "outputs": [],
      "source": [
        "# nb_model.predict(x_validation)[0:45]"
      ]
    },
    {
      "cell_type": "code",
      "execution_count": 339,
      "metadata": {},
      "outputs": [],
      "source": [
        "# nb_model.predict_proba(x_validation)[0:25]"
      ]
    },
    {
      "cell_type": "markdown",
      "metadata": {},
      "source": [
        "## ##########################################################################################################################################################################"
      ]
    },
    {
      "cell_type": "markdown",
      "metadata": {},
      "source": [
        "## KNN"
      ]
    },
    {
      "cell_type": "code",
      "execution_count": 272,
      "metadata": {},
      "outputs": [
        {
          "data": {
            "text/plain": [
              "KNeighborsClassifier(n_neighbors=8)"
            ]
          },
          "execution_count": 272,
          "metadata": {},
          "output_type": "execute_result"
        }
      ],
      "source": [
        "x_train, x_validation, y_train, y_test = train_test_split(x, y, test_size = 0.33, random_state = 252)\n",
        "# Predict & Model\n",
        "# knn = KNeighborsClassifier(n_neighbors=8)\n",
        "knn = KNeighborsClassifier(algorithm='auto', leaf_size=30, metric='minkowski',\n",
        "                     metric_params=None, n_jobs=None, n_neighbors=8, p=2,\n",
        "                     weights='uniform')\n",
        "knn_model = knn.fit(x_train, y_train)\n",
        "knn_model"
      ]
    },
    {
      "cell_type": "code",
      "execution_count": 276,
      "metadata": {},
      "outputs": [
        {
          "data": {
            "text/plain": [
              "0.888"
            ]
          },
          "execution_count": 276,
          "metadata": {},
          "output_type": "execute_result"
        }
      ],
      "source": [
        "y_pred = knn.predict(x_validation)\n",
        "accuracy_score(y_test, y_pred)"
      ]
    },
    {
      "cell_type": "code",
      "execution_count": 274,
      "metadata": {},
      "outputs": [
        {
          "name": "stdout",
          "output_type": "stream",
          "text": [
            "              precision    recall  f1-score   support\n",
            "\n",
            "         0.0       0.88      0.91      0.89        64\n",
            "         1.0       0.90      0.87      0.88        61\n",
            "\n",
            "    accuracy                           0.89       125\n",
            "   macro avg       0.89      0.89      0.89       125\n",
            "weighted avg       0.89      0.89      0.89       125\n",
            "\n"
          ]
        }
      ],
      "source": [
        "print(classification_report(y_test, y_pred)) # get detail print"
      ]
    },
    {
      "cell_type": "code",
      "execution_count": 322,
      "metadata": {},
      "outputs": [
        {
          "data": {
            "image/png": "[encoded data removed]",
            "text/plain": [
              "<Figure size 432x288 with 2 Axes>"
            ]
          },
          "metadata": {
            "needs_background": "light"
          },
          "output_type": "display_data"
        }
      ],
      "source": [
        "from sklearn.metrics import plot_confusion_matrix\n",
        "from sklearn import svm\n",
        "import numpy as np    # linear algebra\n",
        "import pandas as pd   # data processing, CSV file I/O (e.g. pd.read_csv)\n",
        "import sys\n",
        "import scipy\n",
        "import matplotlib\n",
        "import sklearn\n",
        "from mlxtend.plotting import plot_decision_regions\n",
        "data = pd.read_csv (r'C:\\Users\\nizar.maarouf\\Desktop\\project2021\\Arabic_Words.csv').head(376)\n",
        "data.drop(\"Word\", inplace = True, axis=1) \n",
        "y = data['Outcome'].values\n",
        "x = data.drop([\"Outcome\"], axis = 1)\n",
        "x_train, x_test, y_train, y_test = train_test_split(x, y, test_size = 0.33, random_state = 252)\n",
        "knn_model = KNeighborsClassifier(n_neighbors=8)\n",
        "knn_model.fit(x_train, y_train)\n",
        "matrix = plot_confusion_matrix(knn_model, x_test, y_test,cmap=plt.cm.Greens,normalize='true')\n",
        "plt.title('Confusion matrix for our classifier')\n",
        "plt.show(matrix)\n",
        "plt.show()"
      ]
    },
    {
      "cell_type": "markdown",
      "metadata": {},
      "source": [
        "## Model Tunning"
      ]
    },
    {
      "cell_type": "code",
      "execution_count": 71,
      "metadata": {},
      "outputs": [],
      "source": [
        "# knn_params = {\"n_neighbors\": np.arange(1,50)}   # find KNN parameters"
      ]
    },
    {
      "cell_type": "code",
      "execution_count": 338,
      "metadata": {},
      "outputs": [],
      "source": [
        "# fit model classification & CV\n",
        "# knn = KNeighborsClassifier(n_neighbors=8)\n",
        "# knn_cv = GridSearchCV(knn, knn_params, cv=10)\n",
        "# knn_cv.fit(x_train, y_train)"
      ]
    },
    {
      "cell_type": "code",
      "execution_count": 337,
      "metadata": {},
      "outputs": [],
      "source": [
        "# print(\"Best score:\" + str(knn_cv.best_score_))\n",
        "# print(\"Best parameters: \" + str(knn_cv.best_params_))"
      ]
    },
    {
      "cell_type": "code",
      "execution_count": 74,
      "metadata": {},
      "outputs": [],
      "source": [
        "# knn = KNeighborsClassifier(3)\n",
        "# knn_tuned = knn.fit(x_train, y_train)"
      ]
    },
    {
      "cell_type": "code",
      "execution_count": 336,
      "metadata": {},
      "outputs": [],
      "source": [
        "# knn.score(x_test, y_test)"
      ]
    },
    {
      "cell_type": "code",
      "execution_count": 335,
      "metadata": {},
      "outputs": [],
      "source": [
        "# y_pred = knn.predict(x_test)\n",
        "# accuracy_score(y_test, y_pred)"
      ]
    },
    {
      "cell_type": "markdown",
      "metadata": {},
      "source": [
        "## ####################################################################################################################################################################"
      ]
    },
    {
      "cell_type": "markdown",
      "metadata": {},
      "source": [
        "## Random Forest "
      ]
    },
    {
      "cell_type": "code",
      "execution_count": 334,
      "metadata": {},
      "outputs": [],
      "source": [
        "# rf_model = RandomForestClassifier().fit(X_train, y_train)\n",
        "# rf_model"
      ]
    },
    {
      "cell_type": "code",
      "execution_count": 333,
      "metadata": {},
      "outputs": [],
      "source": [
        "# y_pred = rf_model.predict(X_test)\n",
        "# accuracy_score(y_test, y_pred)"
      ]
    },
    {
      "cell_type": "markdown",
      "metadata": {},
      "source": [
        "## Model Tuning"
      ]
    },
    {
      "cell_type": "code",
      "execution_count": 449,
      "metadata": {},
      "outputs": [],
      "source": [
        "# rf_params = {\"max_depth\": [2,5,8,10],\n",
        "#             \"max_features\": [2,5,8],\n",
        "#             \"n_estimators\": [10,500,1000],\n",
        "#             \"min_samples_split\": [2,5,10]}"
      ]
    },
    {
      "cell_type": "code",
      "execution_count": 450,
      "metadata": {},
      "outputs": [],
      "source": [
        "# rf_model = RandomForestClassifier()\n",
        "\n",
        "# rf_cv_model = GridSearchCV(rf_model, \n",
        "#                            rf_params, \n",
        "#                            cv = 10, \n",
        "#                            n_jobs = -1, \n",
        "#                            verbose = 2) "
      ]
    },
    {
      "cell_type": "code",
      "execution_count": 332,
      "metadata": {},
      "outputs": [],
      "source": [
        "# rf_cv_model.fit(X_train, y_train)"
      ]
    },
    {
      "cell_type": "code",
      "execution_count": 331,
      "metadata": {},
      "outputs": [],
      "source": [
        "# print(\"Best Parameters: \" + str(rf_cv_model.best_params_))"
      ]
    },
    {
      "cell_type": "code",
      "execution_count": 330,
      "metadata": {},
      "outputs": [],
      "source": [
        "# # using given parameters then create final model\n",
        "# rf_tuned = RandomForestClassifier(max_depth = 2, \n",
        "#                                   max_features = 5, \n",
        "#                                   min_samples_split = 10,\n",
        "#                                   n_estimators = 10)\n",
        "\n",
        "# rf_tuned.fit(X_train, y_train)"
      ]
    },
    {
      "cell_type": "code",
      "execution_count": 329,
      "metadata": {},
      "outputs": [],
      "source": [
        "# # tunned test model predict accuracy score\n",
        "# y_pred = rf_tuned.predict(X_test)\n",
        "# accuracy_score(y_test, y_pred)"
      ]
    },
    {
      "cell_type": "markdown",
      "metadata": {},
      "source": [
        "## Support vector machine (SVM)"
      ]
    },
    {
      "cell_type": "code",
      "execution_count": 420,
      "metadata": {},
      "outputs": [],
      "source": [
        "x_train, x_validation, y_train, y_test = train_test_split(x, y, test_size = 0.33, random_state = 252)"
      ]
    },
    {
      "cell_type": "code",
      "execution_count": 421,
      "metadata": {},
      "outputs": [
        {
          "data": {
            "text/plain": [
              "SVC(gamma='auto')"
            ]
          },
          "execution_count": 421,
          "metadata": {},
          "output_type": "execute_result"
        }
      ],
      "source": [
        "vsm_model = SVC(gamma='auto')\n",
        "vsm_model.fit(x_train, y_train)\n",
        "y_pred = vsm_model.predict(x_validation)\n",
        "# vsm_model.score(x_validation, y_test)\n",
        "vsm_model"
      ]
    },
    {
      "cell_type": "code",
      "execution_count": 422,
      "metadata": {},
      "outputs": [
        {
          "data": {
            "text/plain": [
              "0.92"
            ]
          },
          "execution_count": 422,
          "metadata": {},
          "output_type": "execute_result"
        }
      ],
      "source": [
        "accuracy_score(y_test, y_pred)"
      ]
    },
    {
      "cell_type": "code",
      "execution_count": 267,
      "metadata": {},
      "outputs": [
        {
          "name": "stdout",
          "output_type": "stream",
          "text": [
            "              precision    recall  f1-score   support\n",
            "\n",
            "         0.0       0.91      0.94      0.92        64\n",
            "         1.0       0.93      0.90      0.92        61\n",
            "\n",
            "    accuracy                           0.92       125\n",
            "   macro avg       0.92      0.92      0.92       125\n",
            "weighted avg       0.92      0.92      0.92       125\n",
            "\n"
          ]
        }
      ],
      "source": [
        "print(classification_report(y_test, y_pred)) # get detail print"
      ]
    },
    {
      "cell_type": "code",
      "execution_count": 463,
      "metadata": {},
      "outputs": [
        {
          "name": "stdout",
          "output_type": "stream",
          "text": [
            "<sklearn.metrics._plot.confusion_matrix.ConfusionMatrixDisplay object at 0x00000299D5BCB9A0>\n"
          ]
        },
        {
          "data": {
            "image/png": "[encoded data removed]",
            "text/plain": [
              "<Figure size 432x288 with 2 Axes>"
            ]
          },
          "metadata": {
            "needs_background": "light"
          },
          "output_type": "display_data"
        }
      ],
      "source": [
        "from sklearn.metrics import plot_confusion_matrix\n",
        "from sklearn import svm\n",
        "import numpy as np    # linear algebra\n",
        "import pandas as pd   # data processing, CSV file I/O (e.g. pd.read_csv)\n",
        "import sys\n",
        "import scipy\n",
        "import matplotlib\n",
        "import sklearn\n",
        "from mlxtend.plotting import plot_decision_regions\n",
        "data = pd.read_csv (r'C:\\Users\\nizar.maarouf\\Desktop\\project2021\\Arabic_Words.csv').head(376)\n",
        "data.drop(\"Word\", inplace = True, axis=1) \n",
        "y = data['Outcome'].values\n",
        "x = data.drop([\"Outcome\"], axis = 1)\n",
        "x_train, x_test, y_train, y_test = train_test_split(x, y, test_size = 0.33, random_state = 252)\n",
        "vsm_model = svm.SVC(gamma=\"auto\")\n",
        "vsm_model.fit(x_train, y_train)\n",
        "matrix = plot_confusion_matrix(vsm_model, x_test, y_test,cmap=plt.cm.Greens,normalize='true')\n",
        "plt.title('Confusion matrix for our classifier')\n",
        "print(matrix)\n",
        "# plt.show()"
      ]
    },
    {
      "cell_type": "code",
      "execution_count": 326,
      "metadata": {},
      "outputs": [],
      "source": [
        "# len(x),(y)"
      ]
    },
    {
      "cell_type": "markdown",
      "metadata": {},
      "source": [
        "## ####################################################################################################################################################################"
      ]
    },
    {
      "cell_type": "code",
      "execution_count": 565,
      "metadata": {},
      "outputs": [],
      "source": [
        "# data.drop(\"Word\", inplace = True, axis=1)\n",
        "\n",
        "# y = data.Outcome.values\n",
        "# x = data.drop([\"Outcome\"], axis = 1)"
      ]
    },
    {
      "cell_type": "code",
      "execution_count": 328,
      "metadata": {},
      "outputs": [],
      "source": [
        "# y_pred = lr_model.predict(x)       \n",
        "# confusion_matrix(y, y_pred)"
      ]
    },
    {
      "cell_type": "code",
      "execution_count": 327,
      "metadata": {},
      "outputs": [],
      "source": [
        "# y_probs = lr_model.predict_proba(x)\n",
        "# y_probs = y_probs[:,1]\n",
        "# y_probs[0:20]"
      ]
    },
    {
      "cell_type": "code",
      "execution_count": 454,
      "metadata": {},
      "outputs": [
        {
          "name": "stdout",
          "output_type": "stream",
          "text": [
            "\n",
            "KNN: 0.89 (0.042)\n",
            "\n",
            "NB: 0.68 (0.076)\n",
            "\n",
            "SVM: 0.94 (0.021)\n"
          ]
        }
      ],
      "source": [
        "import pandas as pd   \n",
        "from sklearn.model_selection import train_test_split,cross_val_score\n",
        "from sklearn.neighbors import KNeighborsClassifier\n",
        "from sklearn.svm import SVC\n",
        "from sklearn.naive_bayes import MultinomialNB\n",
        "from sklearn.model_selection import StratifiedKFold\n",
        "\n",
        "scoring= 'accuracy'\n",
        "data = pd.read_csv (r'C:\\Users\\nizar.maarouf\\Desktop\\project2021\\Arabic_Words.csv').head(376)\n",
        "data.drop(\"Word\", inplace = True, axis=1) \n",
        "y = data['Outcome'].values\n",
        "x = data.drop([\"Outcome\"], axis = 1)\n",
        "x_train, x_test, y_train, y_test = train_test_split(x, y, test_size = None, random_state = None)\n",
        "models= []\n",
        "# models.append(('LR', LogisticRegression()))\n",
        "# models.append(('RF', RandomForestClassifier()))\n",
        "models.append(('KNN', KNeighborsClassifier(n_neighbors=8)))\n",
        "models.append(('NB', MultinomialNB()))\n",
        "models.append(('SVM', SVC(gamma='auto')))\n",
        "results = []\n",
        "names = []\n",
        "for name, model in models:\n",
        "    kfold = StratifiedKFold(n_splits=10, random_state=None)\n",
        "    cv_results = cross_val_score(model, x_train, y_train, cv=kfold, scoring=scoring)\n",
        "    results.append(cv_results)\n",
        "    names.append(name)\n",
        "    msg = '%s: %.2f (%.3f)' % (name, cv_results.mean(), cv_results.std())\n",
        "    print('\\n' + msg)"
      ]
    },
    {
      "cell_type": "code",
      "execution_count": 455,
      "metadata": {},
      "outputs": [
        {
          "data": {
            "image/png": "[encoded data removed]",
            "text/plain": [
              "<Figure size 432x288 with 1 Axes>"
            ]
          },
          "metadata": {
            "needs_background": "light"
          },
          "output_type": "display_data"
        }
      ],
      "source": [
        "#comparing algorithms\n",
        "fig = plt.figure()\n",
        "fig.suptitle('Algorithm Comparision',color = \"r\", size = 15)\n",
        "ax = fig.add_subplot(111)\n",
        "plt.boxplot(results)\n",
        "ax.set_xticklabels(names)\n",
        "plt.show()"
      ]
    }
  ],
  "metadata": {
    "kernelspec": {
      "display_name": "Python 3",
      "language": "python",
      "name": "python3"
    },
    "language_info": {
      "codemirror_mode": {
        "name": "ipython",
        "version": 3
      },
      "file_extension": ".py",
      "mimetype": "text/x-python",
      "name": "python",
      "nbconvert_exporter": "python",
      "pygments_lexer": "ipython3",
      "version": "3.10.1"
    }
  },
  "nbformat": 4,
  "nbformat_minor": 0
}
