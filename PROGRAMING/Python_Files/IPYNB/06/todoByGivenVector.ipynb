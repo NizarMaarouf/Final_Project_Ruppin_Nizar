{
 "cells": [
  {
   "cell_type": "code",
   "execution_count": 1,
   "metadata": {},
   "outputs": [
    {
     "name": "stdout",
     "output_type": "stream",
     "text": [
      "\n",
      "Found - إسلام\n",
      "outcome - 0\n",
      "\n",
      "\n"
     ]
    }
   ],
   "source": [
    "import csv\n",
    "from array import *\n",
    "referencePath = (r'C:\\Users\\nizar.maarouf\\Desktop\\project_2021\\Project_Program_Python\\Data_Encoding.csv')\n",
    "#4 1 0 0 0 2 0 2\n",
    "def IsCorrectVector(givenVector):\n",
    "    File = open(referencePath,'r',encoding=\"utf8\")\n",
    "    Reader = csv.reader(File)\n",
    "    Data = list(Reader)\n",
    "    returnValue = []\n",
    "    for data  in Data:\n",
    "        if((data) != ['', '', '', '', '', '', '', '', '', '']):\n",
    "            if(data[1:len(data)- 1] == givenVector):\n",
    "                returnValue = data\n",
    "                break\n",
    "\n",
    "    File.close()  \n",
    "    \n",
    "    return returnValue\n",
    "    \n",
    "def main(): \n",
    "\n",
    "   \n",
    "\n",
    "    givenVector = []\n",
    " \n",
    "    while True:\n",
    "        givenVector = input(\"Enter an array of 8 digits\")\n",
    "        if(len(list(givenVector.split(' ')))  == 8):\n",
    "            break\n",
    "\n",
    "    full_vector=IsCorrectVector(list(givenVector.split(' ')))\n",
    "\n",
    "    outcome = []\n",
    "\n",
    "    if(full_vector != [] ):\n",
    "        #exist\n",
    "        #Filter vector\n",
    "        word = full_vector[0]\n",
    "        outcome = full_vector[len(full_vector) -1]\n",
    "        \n",
    "        print('Found - ' + word)\n",
    "        print('outcome - ' + outcome)\n",
    "\n",
    "    else:\n",
    "        # not exist\n",
    "        print('Wrong input')\n",
    "\n",
    "    print('\\n')\n",
    "\n",
    "main()"
   ]
  },
  {
   "cell_type": "code",
   "execution_count": null,
   "metadata": {},
   "outputs": [],
   "source": []
  }
 ],
 "metadata": {
  "kernelspec": {
   "display_name": "Python 3.9.13 64-bit",
   "language": "python",
   "name": "python3"
  },
  "language_info": {
   "codemirror_mode": {
    "name": "ipython",
    "version": 3
   },
   "file_extension": ".py",
   "mimetype": "text/x-python",
   "name": "python",
   "nbconvert_exporter": "python",
   "pygments_lexer": "ipython3",
   "version": "3.9.13"
  },
  "orig_nbformat": 4,
  "vscode": {
   "interpreter": {
    "hash": "11938c6bc6919ae2720b4d5011047913343b08a43b18698fd82dedb0d4417594"
   }
  }
 },
 "nbformat": 4,
 "nbformat_minor": 2
}
