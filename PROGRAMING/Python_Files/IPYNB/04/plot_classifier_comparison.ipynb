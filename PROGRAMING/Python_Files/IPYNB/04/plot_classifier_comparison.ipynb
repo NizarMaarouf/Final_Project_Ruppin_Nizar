{
  "cells": [
    {
      "cell_type": "code",
      "execution_count": 5,
      "metadata": {},
      "outputs": [],
      "source": [
        "import numpy as np    # linear algebra\n",
        "import pandas as pd   # data processing, CSV file I/O (e.g. pd.read_csv)\n",
        "import sys\n",
        "import scipy\n",
        "import matplotlib\n",
        "import sklearn\n",
        "import statsmodels.api as sm\n",
        "import statsmodels.formula.api as smf\n",
        "import matplotlib.pyplot as plt\n",
        "from sklearn.preprocessing import scale \n",
        "from sklearn import model_selection\n",
        "from sklearn.model_selection import train_test_split, GridSearchCV, cross_val_score\n",
        "from sklearn.metrics import roc_auc_score,roc_curve,plot_confusion_matrix,confusion_matrix, accuracy_score, classification_report\n",
        "from sklearn.neighbors import KNeighborsClassifier\n",
        "from sklearn.discriminant_analysis import LinearDiscriminantAnalysis\n",
        "from sklearn.linear_model import LogisticRegression\n",
        "from sklearn.svm import SVC\n",
        "from sklearn.naive_bayes import GaussianNB\n",
        "from sklearn import tree\n",
        "from sklearn.ensemble import RandomForestClassifier\n",
        "from sklearn.tree import DecisionTreeClassifier\n",
        "from sklearn.model_selection import StratifiedKFold\n",
        "\n",
        "from warnings import filterwarnings\n",
        "filterwarnings('ignore')\n"
      ]
    },
    {
      "cell_type": "code",
      "execution_count": 2,
      "metadata": {},
      "outputs": [
        {
          "name": "stdout",
          "output_type": "stream",
          "text": [
            "Python : 3.9.13 (tags/v3.9.13:6de2ca5, May 17 2022, 16:36:42) [MSC v.1929 64 bit (AMD64)]\n",
            "Scipy : 1.8.1\n",
            "Numpy : 1.22.4\n",
            "Pandas : 1.4.2\n",
            "Matplotlib : 3.5.2\n",
            "Sklearn : 1.1.1\n"
          ]
        }
      ],
      "source": [
        "print('Python : {}'.format(sys.version))\n",
        "print('Scipy : {}'.format(scipy.__version__))\n",
        "print('Numpy : {}'.format(np.__version__))\n",
        "print('Pandas : {}'.format(pd.__version__))\n",
        "print('Matplotlib : {}'.format(matplotlib.__version__))\n",
        "print('Sklearn : {}'.format(sklearn.__version__))"
      ]
    },
    {
      "cell_type": "code",
      "execution_count": 6,
      "metadata": {},
      "outputs": [
        {
          "data": {
            "text/html": [
              "<div>\n",
              "<style scoped>\n",
              "    .dataframe tbody tr th:only-of-type {\n",
              "        vertical-align: middle;\n",
              "    }\n",
              "\n",
              "    .dataframe tbody tr th {\n",
              "        vertical-align: top;\n",
              "    }\n",
              "\n",
              "    .dataframe thead th {\n",
              "        text-align: right;\n",
              "    }\n",
              "</style>\n",
              "<table border=\"1\" class=\"dataframe\">\n",
              "  <thead>\n",
              "    <tr style=\"text-align: right;\">\n",
              "      <th></th>\n",
              "      <th>Word</th>\n",
              "      <th>Count</th>\n",
              "      <th>Noun</th>\n",
              "      <th>Verb</th>\n",
              "      <th>Letter</th>\n",
              "      <th>adjective</th>\n",
              "      <th>morphological</th>\n",
              "      <th>The</th>\n",
              "      <th>diacritic</th>\n",
              "      <th>Outcome</th>\n",
              "    </tr>\n",
              "  </thead>\n",
              "  <tbody>\n",
              "    <tr>\n",
              "      <th>0</th>\n",
              "      <td>8e117a32510d41082681de68937befd3f564c349067ec5...</td>\n",
              "      <td>4.0</td>\n",
              "      <td>1.0</td>\n",
              "      <td>0.0</td>\n",
              "      <td>0.0</td>\n",
              "      <td>0.0</td>\n",
              "      <td>2.0</td>\n",
              "      <td>0.0</td>\n",
              "      <td>2.0</td>\n",
              "      <td>0.0</td>\n",
              "    </tr>\n",
              "    <tr>\n",
              "      <th>1</th>\n",
              "      <td>b401e637ead22b50ca3012befa3c55901d2248781750ed...</td>\n",
              "      <td>5.0</td>\n",
              "      <td>1.0</td>\n",
              "      <td>0.0</td>\n",
              "      <td>0.0</td>\n",
              "      <td>0.0</td>\n",
              "      <td>2.0</td>\n",
              "      <td>0.0</td>\n",
              "      <td>3.0</td>\n",
              "      <td>0.0</td>\n",
              "    </tr>\n",
              "    <tr>\n",
              "      <th>2</th>\n",
              "      <td>c2132540fedae6dba455d57553753448f7685171ac60dd...</td>\n",
              "      <td>5.0</td>\n",
              "      <td>1.0</td>\n",
              "      <td>0.0</td>\n",
              "      <td>0.0</td>\n",
              "      <td>0.0</td>\n",
              "      <td>2.0</td>\n",
              "      <td>0.0</td>\n",
              "      <td>1.0</td>\n",
              "      <td>0.0</td>\n",
              "    </tr>\n",
              "    <tr>\n",
              "      <th>3</th>\n",
              "      <td>f0993ec4ddf41ffe8b87ecd35fa09be5a7d56ab0424875...</td>\n",
              "      <td>4.0</td>\n",
              "      <td>1.0</td>\n",
              "      <td>0.0</td>\n",
              "      <td>0.0</td>\n",
              "      <td>0.0</td>\n",
              "      <td>2.0</td>\n",
              "      <td>0.0</td>\n",
              "      <td>1.0</td>\n",
              "      <td>0.0</td>\n",
              "    </tr>\n",
              "    <tr>\n",
              "      <th>4</th>\n",
              "      <td>3fa07d2ebd61fb0384890778f359a7c873fc429d18a71b...</td>\n",
              "      <td>4.0</td>\n",
              "      <td>1.0</td>\n",
              "      <td>0.0</td>\n",
              "      <td>0.0</td>\n",
              "      <td>0.0</td>\n",
              "      <td>2.0</td>\n",
              "      <td>0.0</td>\n",
              "      <td>1.0</td>\n",
              "      <td>0.0</td>\n",
              "    </tr>\n",
              "  </tbody>\n",
              "</table>\n",
              "</div>"
            ],
            "text/plain": [
              "                                                Word  Count  Noun  Verb  \\\n",
              "0  8e117a32510d41082681de68937befd3f564c349067ec5...    4.0   1.0   0.0   \n",
              "1  b401e637ead22b50ca3012befa3c55901d2248781750ed...    5.0   1.0   0.0   \n",
              "2  c2132540fedae6dba455d57553753448f7685171ac60dd...    5.0   1.0   0.0   \n",
              "3  f0993ec4ddf41ffe8b87ecd35fa09be5a7d56ab0424875...    4.0   1.0   0.0   \n",
              "4  3fa07d2ebd61fb0384890778f359a7c873fc429d18a71b...    4.0   1.0   0.0   \n",
              "\n",
              "   Letter  adjective  morphological  The  diacritic  Outcome  \n",
              "0     0.0        0.0            2.0  0.0        2.0      0.0  \n",
              "1     0.0        0.0            2.0  0.0        3.0      0.0  \n",
              "2     0.0        0.0            2.0  0.0        1.0      0.0  \n",
              "3     0.0        0.0            2.0  0.0        1.0      0.0  \n",
              "4     0.0        0.0            2.0  0.0        1.0      0.0  "
            ]
          },
          "execution_count": 6,
          "metadata": {},
          "output_type": "execute_result"
        }
      ],
      "source": [
        "data = pd.read_csv (r'C:\\Users\\nizar.maarouf\\Desktop\\Final_Progect_Ruppin\\CSV_Files\\Arabic_Words10.csv').head(450)\n",
        "data.head()"
      ]
    },
    {
      "cell_type": "code",
      "execution_count": 7,
      "metadata": {},
      "outputs": [
        {
          "data": {
            "text/html": [
              "<div>\n",
              "<style scoped>\n",
              "    .dataframe tbody tr th:only-of-type {\n",
              "        vertical-align: middle;\n",
              "    }\n",
              "\n",
              "    .dataframe tbody tr th {\n",
              "        vertical-align: top;\n",
              "    }\n",
              "\n",
              "    .dataframe thead th {\n",
              "        text-align: right;\n",
              "    }\n",
              "</style>\n",
              "<table border=\"1\" class=\"dataframe\">\n",
              "  <thead>\n",
              "    <tr style=\"text-align: right;\">\n",
              "      <th></th>\n",
              "      <th>Word</th>\n",
              "      <th>Count</th>\n",
              "      <th>Noun</th>\n",
              "      <th>Verb</th>\n",
              "      <th>Letter</th>\n",
              "      <th>adjective</th>\n",
              "      <th>morphological</th>\n",
              "      <th>The</th>\n",
              "      <th>diacritic</th>\n",
              "      <th>Outcome</th>\n",
              "    </tr>\n",
              "  </thead>\n",
              "  <tbody>\n",
              "    <tr>\n",
              "      <th>146</th>\n",
              "      <td>06aff795c8c0077321287a55e6acb9d132ac572bed3790...</td>\n",
              "      <td>2.0</td>\n",
              "      <td>5.0</td>\n",
              "      <td>0.0</td>\n",
              "      <td>0.0</td>\n",
              "      <td>0.0</td>\n",
              "      <td>2.0</td>\n",
              "      <td>0.0</td>\n",
              "      <td>3.0</td>\n",
              "      <td>0.0</td>\n",
              "    </tr>\n",
              "    <tr>\n",
              "      <th>305</th>\n",
              "      <td>3cf89eab65f8c3f48e9928e0fc265b481e0e6eddaeb50b...</td>\n",
              "      <td>2.0</td>\n",
              "      <td>6.0</td>\n",
              "      <td>0.0</td>\n",
              "      <td>0.0</td>\n",
              "      <td>0.0</td>\n",
              "      <td>1.0</td>\n",
              "      <td>0.0</td>\n",
              "      <td>1.0</td>\n",
              "      <td>0.0</td>\n",
              "    </tr>\n",
              "    <tr>\n",
              "      <th>313</th>\n",
              "      <td>661a568b46bcb7b24fe4232e3a201b14c1903b8c394db9...</td>\n",
              "      <td>2.0</td>\n",
              "      <td>0.0</td>\n",
              "      <td>0.0</td>\n",
              "      <td>1.0</td>\n",
              "      <td>0.0</td>\n",
              "      <td>1.0</td>\n",
              "      <td>0.0</td>\n",
              "      <td>1.0</td>\n",
              "      <td>0.0</td>\n",
              "    </tr>\n",
              "    <tr>\n",
              "      <th>43</th>\n",
              "      <td>2553faf2d7c4285c0e8c83fcc1cc5045ae1410e59581ca...</td>\n",
              "      <td>2.0</td>\n",
              "      <td>0.0</td>\n",
              "      <td>0.0</td>\n",
              "      <td>1.0</td>\n",
              "      <td>0.0</td>\n",
              "      <td>1.0</td>\n",
              "      <td>0.0</td>\n",
              "      <td>1.0</td>\n",
              "      <td>0.0</td>\n",
              "    </tr>\n",
              "    <tr>\n",
              "      <th>19</th>\n",
              "      <td>f8ac19d897aa1101003c21210e4101b6cb44c678a35db8...</td>\n",
              "      <td>2.0</td>\n",
              "      <td>6.0</td>\n",
              "      <td>0.0</td>\n",
              "      <td>0.0</td>\n",
              "      <td>0.0</td>\n",
              "      <td>2.0</td>\n",
              "      <td>0.0</td>\n",
              "      <td>1.0</td>\n",
              "      <td>0.0</td>\n",
              "    </tr>\n",
              "  </tbody>\n",
              "</table>\n",
              "</div>"
            ],
            "text/plain": [
              "                                                  Word  Count  Noun  Verb  \\\n",
              "146  06aff795c8c0077321287a55e6acb9d132ac572bed3790...    2.0   5.0   0.0   \n",
              "305  3cf89eab65f8c3f48e9928e0fc265b481e0e6eddaeb50b...    2.0   6.0   0.0   \n",
              "313  661a568b46bcb7b24fe4232e3a201b14c1903b8c394db9...    2.0   0.0   0.0   \n",
              "43   2553faf2d7c4285c0e8c83fcc1cc5045ae1410e59581ca...    2.0   0.0   0.0   \n",
              "19   f8ac19d897aa1101003c21210e4101b6cb44c678a35db8...    2.0   6.0   0.0   \n",
              "\n",
              "     Letter  adjective  morphological  The  diacritic  Outcome  \n",
              "146     0.0        0.0            2.0  0.0        3.0      0.0  \n",
              "305     0.0        0.0            1.0  0.0        1.0      0.0  \n",
              "313     1.0        0.0            1.0  0.0        1.0      0.0  \n",
              "43      1.0        0.0            1.0  0.0        1.0      0.0  \n",
              "19      0.0        0.0            2.0  0.0        1.0      0.0  "
            ]
          },
          "execution_count": 7,
          "metadata": {},
          "output_type": "execute_result"
        }
      ],
      "source": [
        "data.sort_values(by='Count').head()"
      ]
    },
    {
      "cell_type": "markdown",
      "metadata": {},
      "source": [
        "## ####################################################################################################################################################################"
      ]
    },
    {
      "cell_type": "markdown",
      "metadata": {},
      "source": [
        "## EDA (Exploratory Data Analysis)"
      ]
    },
    {
      "cell_type": "code",
      "execution_count": 8,
      "metadata": {},
      "outputs": [
        {
          "name": "stdout",
          "output_type": "stream",
          "text": [
            "(450, 10)\n"
          ]
        }
      ],
      "source": [
        "print(data.shape)"
      ]
    },
    {
      "cell_type": "code",
      "execution_count": 9,
      "metadata": {},
      "outputs": [
        {
          "name": "stdout",
          "output_type": "stream",
          "text": [
            "Outcome\n",
            "0.0    250\n",
            "1.0    200\n",
            "dtype: int64\n"
          ]
        }
      ],
      "source": [
        "print(data.groupby('Outcome').size())"
      ]
    },
    {
      "cell_type": "code",
      "execution_count": 10,
      "metadata": {},
      "outputs": [
        {
          "name": "stdout",
          "output_type": "stream",
          "text": [
            "<class 'pandas.core.frame.DataFrame'>\n",
            "RangeIndex: 450 entries, 0 to 449\n",
            "Data columns (total 10 columns):\n",
            " #   Column         Non-Null Count  Dtype  \n",
            "---  ------         --------------  -----  \n",
            " 0   Word           450 non-null    object \n",
            " 1   Count          450 non-null    float64\n",
            " 2   Noun           450 non-null    float64\n",
            " 3   Verb           450 non-null    float64\n",
            " 4   Letter         450 non-null    float64\n",
            " 5   adjective      450 non-null    float64\n",
            " 6   morphological  450 non-null    float64\n",
            " 7   The            450 non-null    float64\n",
            " 8   diacritic      450 non-null    float64\n",
            " 9   Outcome        450 non-null    float64\n",
            "dtypes: float64(9), object(1)\n",
            "memory usage: 35.3+ KB\n"
          ]
        }
      ],
      "source": [
        "data.info() "
      ]
    },
    {
      "cell_type": "code",
      "execution_count": 11,
      "metadata": {},
      "outputs": [
        {
          "data": {
            "text/html": [
              "<div>\n",
              "<style scoped>\n",
              "    .dataframe tbody tr th:only-of-type {\n",
              "        vertical-align: middle;\n",
              "    }\n",
              "\n",
              "    .dataframe tbody tr th {\n",
              "        vertical-align: top;\n",
              "    }\n",
              "\n",
              "    .dataframe thead th {\n",
              "        text-align: right;\n",
              "    }\n",
              "</style>\n",
              "<table border=\"1\" class=\"dataframe\">\n",
              "  <thead>\n",
              "    <tr style=\"text-align: right;\">\n",
              "      <th></th>\n",
              "      <th>count</th>\n",
              "      <th>mean</th>\n",
              "      <th>std</th>\n",
              "      <th>min</th>\n",
              "      <th>25%</th>\n",
              "      <th>50%</th>\n",
              "      <th>75%</th>\n",
              "      <th>max</th>\n",
              "    </tr>\n",
              "  </thead>\n",
              "  <tbody>\n",
              "    <tr>\n",
              "      <th>Count</th>\n",
              "      <td>450.0</td>\n",
              "      <td>4.802222</td>\n",
              "      <td>1.239115</td>\n",
              "      <td>2.0</td>\n",
              "      <td>4.0</td>\n",
              "      <td>5.0</td>\n",
              "      <td>6.0</td>\n",
              "      <td>8.0</td>\n",
              "    </tr>\n",
              "    <tr>\n",
              "      <th>Noun</th>\n",
              "      <td>450.0</td>\n",
              "      <td>3.084444</td>\n",
              "      <td>2.943715</td>\n",
              "      <td>0.0</td>\n",
              "      <td>0.0</td>\n",
              "      <td>3.5</td>\n",
              "      <td>6.0</td>\n",
              "      <td>9.0</td>\n",
              "    </tr>\n",
              "    <tr>\n",
              "      <th>Verb</th>\n",
              "      <td>450.0</td>\n",
              "      <td>0.757778</td>\n",
              "      <td>1.168058</td>\n",
              "      <td>0.0</td>\n",
              "      <td>0.0</td>\n",
              "      <td>0.0</td>\n",
              "      <td>1.0</td>\n",
              "      <td>3.0</td>\n",
              "    </tr>\n",
              "    <tr>\n",
              "      <th>Letter</th>\n",
              "      <td>450.0</td>\n",
              "      <td>0.042222</td>\n",
              "      <td>0.201320</td>\n",
              "      <td>0.0</td>\n",
              "      <td>0.0</td>\n",
              "      <td>0.0</td>\n",
              "      <td>0.0</td>\n",
              "      <td>1.0</td>\n",
              "    </tr>\n",
              "    <tr>\n",
              "      <th>adjective</th>\n",
              "      <td>450.0</td>\n",
              "      <td>0.031111</td>\n",
              "      <td>0.173811</td>\n",
              "      <td>0.0</td>\n",
              "      <td>0.0</td>\n",
              "      <td>0.0</td>\n",
              "      <td>0.0</td>\n",
              "      <td>1.0</td>\n",
              "    </tr>\n",
              "    <tr>\n",
              "      <th>morphological</th>\n",
              "      <td>450.0</td>\n",
              "      <td>3.948889</td>\n",
              "      <td>2.835436</td>\n",
              "      <td>1.0</td>\n",
              "      <td>2.0</td>\n",
              "      <td>2.0</td>\n",
              "      <td>6.0</td>\n",
              "      <td>11.0</td>\n",
              "    </tr>\n",
              "    <tr>\n",
              "      <th>The</th>\n",
              "      <td>450.0</td>\n",
              "      <td>0.144444</td>\n",
              "      <td>0.351931</td>\n",
              "      <td>0.0</td>\n",
              "      <td>0.0</td>\n",
              "      <td>0.0</td>\n",
              "      <td>0.0</td>\n",
              "      <td>1.0</td>\n",
              "    </tr>\n",
              "    <tr>\n",
              "      <th>diacritic</th>\n",
              "      <td>450.0</td>\n",
              "      <td>1.895556</td>\n",
              "      <td>0.854819</td>\n",
              "      <td>1.0</td>\n",
              "      <td>1.0</td>\n",
              "      <td>2.0</td>\n",
              "      <td>2.0</td>\n",
              "      <td>5.0</td>\n",
              "    </tr>\n",
              "    <tr>\n",
              "      <th>Outcome</th>\n",
              "      <td>450.0</td>\n",
              "      <td>0.444444</td>\n",
              "      <td>0.497457</td>\n",
              "      <td>0.0</td>\n",
              "      <td>0.0</td>\n",
              "      <td>0.0</td>\n",
              "      <td>1.0</td>\n",
              "      <td>1.0</td>\n",
              "    </tr>\n",
              "  </tbody>\n",
              "</table>\n",
              "</div>"
            ],
            "text/plain": [
              "               count      mean       std  min  25%  50%  75%   max\n",
              "Count          450.0  4.802222  1.239115  2.0  4.0  5.0  6.0   8.0\n",
              "Noun           450.0  3.084444  2.943715  0.0  0.0  3.5  6.0   9.0\n",
              "Verb           450.0  0.757778  1.168058  0.0  0.0  0.0  1.0   3.0\n",
              "Letter         450.0  0.042222  0.201320  0.0  0.0  0.0  0.0   1.0\n",
              "adjective      450.0  0.031111  0.173811  0.0  0.0  0.0  0.0   1.0\n",
              "morphological  450.0  3.948889  2.835436  1.0  2.0  2.0  6.0  11.0\n",
              "The            450.0  0.144444  0.351931  0.0  0.0  0.0  0.0   1.0\n",
              "diacritic      450.0  1.895556  0.854819  1.0  1.0  2.0  2.0   5.0\n",
              "Outcome        450.0  0.444444  0.497457  0.0  0.0  0.0  1.0   1.0"
            ]
          },
          "execution_count": 11,
          "metadata": {},
          "output_type": "execute_result"
        }
      ],
      "source": [
        "data.describe().T"
      ]
    },
    {
      "cell_type": "code",
      "execution_count": 12,
      "metadata": {},
      "outputs": [
        {
          "data": {
            "image/png": "[encoded data removed]",
            "text/plain": [
              "<Figure size 432x288 with 1 Axes>"
            ]
          },
          "metadata": {
            "needs_background": "light"
          },
          "output_type": "display_data"
        }
      ],
      "source": [
        "# Bar בתור  Outcome בוא נראה 0, 1 מספרים של\n",
        "data['Outcome'].value_counts().plot.barh();"
      ]
    },
    {
      "cell_type": "code",
      "execution_count": 13,
      "metadata": {},
      "outputs": [],
      "source": [
        "#(תכונה שאיננו צריכים ,נרצה לשחרר אותה)\n",
        "data.drop(\"Word\", inplace = True, axis=1) \n",
        "y = data['Outcome'].values\n",
        "x = data.drop([\"Outcome\"], axis = 1)"
      ]
    },
    {
      "cell_type": "code",
      "execution_count": 14,
      "metadata": {},
      "outputs": [
        {
          "data": {
            "text/plain": [
              "Count            0\n",
              "Noun             0\n",
              "Verb             0\n",
              "Letter           0\n",
              "adjective        0\n",
              "morphological    0\n",
              "The              0\n",
              "diacritic        0\n",
              "Outcome          0\n",
              "dtype: int64"
            ]
          },
          "execution_count": 14,
          "metadata": {},
          "output_type": "execute_result"
        }
      ],
      "source": [
        "data.isnull().sum()  #(see how many null values we have then we don't need to normalize)"
      ]
    },
    {
      "cell_type": "markdown",
      "metadata": {},
      "source": [
        "## #########################################################################################################################################################################"
      ]
    },
    {
      "cell_type": "markdown",
      "metadata": {},
      "source": [
        "## Logistic Regression"
      ]
    },
    {
      "cell_type": "code",
      "execution_count": 156,
      "metadata": {},
      "outputs": [],
      "source": [
        "# x_train, x_test, y_train, y_test = train_test_split(x, y, test_size = 0.33, random_state = 232)"
      ]
    },
    {
      "cell_type": "code",
      "execution_count": 356,
      "metadata": {},
      "outputs": [],
      "source": [
        "# lr_model = LogisticRegression(solver = \"liblinear\")    #(רגרסיה לוגיסטית)\n",
        "# lr = lr_model.fit(x,y)                             #(הגדר את הדגם)\n",
        "# lr_model"
      ]
    },
    {
      "cell_type": "code",
      "execution_count": 355,
      "metadata": {},
      "outputs": [],
      "source": [
        "# lr_model.intercept_      # (ערכים קבועים)\n",
        "# lr_model.coef_           # (ערכים עצמאיים)"
      ]
    },
    {
      "cell_type": "markdown",
      "metadata": {},
      "source": [
        "## Predict & Model Tuning"
      ]
    },
    {
      "cell_type": "code",
      "execution_count": 354,
      "metadata": {},
      "outputs": [],
      "source": [
        "# y_pred = lr_model.predict(x)       #(predict)\n",
        "# confusion_matrix(y, y_pred)        #(confussion matrix)"
      ]
    },
    {
      "cell_type": "code",
      "execution_count": 353,
      "metadata": {},
      "outputs": [],
      "source": [
        "# accuracy_score(y, y_pred)"
      ]
    },
    {
      "cell_type": "code",
      "execution_count": 352,
      "metadata": {},
      "outputs": [],
      "source": [
        "# print(classification_report(y, y_pred))"
      ]
    },
    {
      "cell_type": "code",
      "execution_count": 351,
      "metadata": {},
      "outputs": [],
      "source": [
        "# lr_model.predict(x)[0:50]   # Model predict"
      ]
    },
    {
      "cell_type": "code",
      "execution_count": 350,
      "metadata": {},
      "outputs": [],
      "source": [
        "# lr_model.predict_proba(x)[0:10][:,0:2]"
      ]
    },
    {
      "cell_type": "markdown",
      "metadata": {},
      "source": [
        "### Now lets try model 'predict_proba' probability"
      ]
    },
    {
      "cell_type": "code",
      "execution_count": 349,
      "metadata": {},
      "outputs": [],
      "source": [
        "# y_probs = lr_model.predict_proba(x)\n",
        "# y_probs = y_probs[:,1]\n",
        "# print(y_probs[21:60])"
      ]
    },
    {
      "cell_type": "code",
      "execution_count": 165,
      "metadata": {},
      "outputs": [],
      "source": [
        "# y_pred = [1 if i > 0.5 else 0 for i in y_probs]   # giving limit for values"
      ]
    },
    {
      "cell_type": "code",
      "execution_count": 348,
      "metadata": {},
      "outputs": [],
      "source": [
        "# print(y_pred[21:60]) # and compare with above you can see what happened"
      ]
    },
    {
      "cell_type": "code",
      "execution_count": 347,
      "metadata": {},
      "outputs": [],
      "source": [
        "# confusion_matrix(y, y_pred)"
      ]
    },
    {
      "cell_type": "code",
      "execution_count": 346,
      "metadata": {},
      "outputs": [],
      "source": [
        "# accuracy_score(y, y_pred)"
      ]
    },
    {
      "cell_type": "code",
      "execution_count": 345,
      "metadata": {},
      "outputs": [],
      "source": [
        "# print(classification_report(y, y_pred))"
      ]
    },
    {
      "cell_type": "code",
      "execution_count": 344,
      "metadata": {},
      "outputs": [],
      "source": [
        "# logit_roc_auc = roc_auc_score(y, lr_model.predict(x))\n",
        "# fpr, tpr, thresholds = roc_curve(y, lr_model.predict_proba(x)[:,1])\n",
        "# plt.figure()\n",
        "# plt.plot(fpr, tpr, label='AUC (area = %0.2f)' % logit_roc_auc, color=\"red\")\n",
        "# plt.plot([0, 1], [0, 1], color=\"navy\", lw=2, linestyle=\"--\")\n",
        "# plt.xlim([0.0, 1.0])\n",
        "# plt.ylim([0.0, 1.05])\n",
        "# plt.xlabel('False Positive Rate',size=15,color=\"g\")\n",
        "# plt.ylabel('True Positive Rate',size=15,color=\"g\")\n",
        "# plt.title('Receiver operating characteristic',size=15,color=\"r\")\n",
        "# plt.legend(loc=\"lower right\")\n",
        "# plt.show()\n",
        "\n",
        "# red line: which we set our model\n",
        "# blue line: if we dont do it what can we take result\n",
        "# Area under the ROC curve is one of the most useful metrics to evaluate a supervised classification model"
      ]
    },
    {
      "cell_type": "code",
      "execution_count": 171,
      "metadata": {},
      "outputs": [],
      "source": [
        "# x_train, x_test, y_train, y_test = train_test_split(x, y, test_size = 0.33, random_state = 208)"
      ]
    },
    {
      "cell_type": "code",
      "execution_count": 343,
      "metadata": {},
      "outputs": [],
      "source": [
        "# lr=LogisticRegression(C=1.0, class_weight=None, dual=False, fit_intercept=True,\n",
        "#                    intercept_scaling=1, l1_ratio=None, max_iter=100,\n",
        "#                    multi_class='auto', n_jobs=None, penalty='l2',\n",
        "#                    random_state=None, solver='liblinear', tol=0.0001, verbose=0,\n",
        "#                    warm_start=False)\n",
        "# lr = LogisticRegression(solver = \"liblinear\")\n",
        "# lr_model = lr.fit(x_train,y_train)\n",
        "# lr_model"
      ]
    },
    {
      "cell_type": "code",
      "execution_count": 342,
      "metadata": {},
      "outputs": [],
      "source": [
        "# accuracy_score(y_test, lr_model.predict(x_test))"
      ]
    },
    {
      "cell_type": "code",
      "execution_count": 174,
      "metadata": {},
      "outputs": [
        {
          "data": {
            "text/plain": [
              "0.8166666666666667"
            ]
          },
          "execution_count": 174,
          "metadata": {},
          "output_type": "execute_result"
        }
      ],
      "source": [
        "# cross_val_score(lr_model, x_test, y_test, cv = 10).mean()"
      ]
    },
    {
      "cell_type": "markdown",
      "metadata": {},
      "source": [
        "## ##################################################################################################################################################################"
      ]
    },
    {
      "cell_type": "markdown",
      "metadata": {},
      "source": [
        "## Gaussian Naive Bayes"
      ]
    },
    {
      "cell_type": "code",
      "execution_count": 22,
      "metadata": {},
      "outputs": [
        {
          "data": {
            "text/html": [
              "<style>#sk-container-id-1 {color: black;background-color: white;}#sk-container-id-1 pre{padding: 0;}#sk-container-id-1 div.sk-toggleable {background-color: white;}#sk-container-id-1 label.sk-toggleable__label {cursor: pointer;display: block;width: 100%;margin-bottom: 0;padding: 0.3em;box-sizing: border-box;text-align: center;}#sk-container-id-1 label.sk-toggleable__label-arrow:before {content: \"▸\";float: left;margin-right: 0.25em;color: #696969;}#sk-container-id-1 label.sk-toggleable__label-arrow:hover:before {color: black;}#sk-container-id-1 div.sk-estimator:hover label.sk-toggleable__label-arrow:before {color: black;}#sk-container-id-1 div.sk-toggleable__content {max-height: 0;max-width: 0;overflow: hidden;text-align: left;background-color: #f0f8ff;}#sk-container-id-1 div.sk-toggleable__content pre {margin: 0.2em;color: black;border-radius: 0.25em;background-color: #f0f8ff;}#sk-container-id-1 input.sk-toggleable__control:checked~div.sk-toggleable__content {max-height: 200px;max-width: 100%;overflow: auto;}#sk-container-id-1 input.sk-toggleable__control:checked~label.sk-toggleable__label-arrow:before {content: \"▾\";}#sk-container-id-1 div.sk-estimator input.sk-toggleable__control:checked~label.sk-toggleable__label {background-color: #d4ebff;}#sk-container-id-1 div.sk-label input.sk-toggleable__control:checked~label.sk-toggleable__label {background-color: #d4ebff;}#sk-container-id-1 input.sk-hidden--visually {border: 0;clip: rect(1px 1px 1px 1px);clip: rect(1px, 1px, 1px, 1px);height: 1px;margin: -1px;overflow: hidden;padding: 0;position: absolute;width: 1px;}#sk-container-id-1 div.sk-estimator {font-family: monospace;background-color: #f0f8ff;border: 1px dotted black;border-radius: 0.25em;box-sizing: border-box;margin-bottom: 0.5em;}#sk-container-id-1 div.sk-estimator:hover {background-color: #d4ebff;}#sk-container-id-1 div.sk-parallel-item::after {content: \"\";width: 100%;border-bottom: 1px solid gray;flex-grow: 1;}#sk-container-id-1 div.sk-label:hover label.sk-toggleable__label {background-color: #d4ebff;}#sk-container-id-1 div.sk-serial::before {content: \"\";position: absolute;border-left: 1px solid gray;box-sizing: border-box;top: 0;bottom: 0;left: 50%;z-index: 0;}#sk-container-id-1 div.sk-serial {display: flex;flex-direction: column;align-items: center;background-color: white;padding-right: 0.2em;padding-left: 0.2em;position: relative;}#sk-container-id-1 div.sk-item {position: relative;z-index: 1;}#sk-container-id-1 div.sk-parallel {display: flex;align-items: stretch;justify-content: center;background-color: white;position: relative;}#sk-container-id-1 div.sk-item::before, #sk-container-id-1 div.sk-parallel-item::before {content: \"\";position: absolute;border-left: 1px solid gray;box-sizing: border-box;top: 0;bottom: 0;left: 50%;z-index: -1;}#sk-container-id-1 div.sk-parallel-item {display: flex;flex-direction: column;z-index: 1;position: relative;background-color: white;}#sk-container-id-1 div.sk-parallel-item:first-child::after {align-self: flex-end;width: 50%;}#sk-container-id-1 div.sk-parallel-item:last-child::after {align-self: flex-start;width: 50%;}#sk-container-id-1 div.sk-parallel-item:only-child::after {width: 0;}#sk-container-id-1 div.sk-dashed-wrapped {border: 1px dashed gray;margin: 0 0.4em 0.5em 0.4em;box-sizing: border-box;padding-bottom: 0.4em;background-color: white;}#sk-container-id-1 div.sk-label label {font-family: monospace;font-weight: bold;display: inline-block;line-height: 1.2em;}#sk-container-id-1 div.sk-label-container {text-align: center;}#sk-container-id-1 div.sk-container {/* jupyter's `normalize.less` sets `[hidden] { display: none; }` but bootstrap.min.css set `[hidden] { display: none !important; }` so we also need the `!important` here to be able to override the default hidden behavior on the sphinx rendered scikit-learn.org. See: https://github.com/scikit-learn/scikit-learn/issues/21755 */display: inline-block !important;position: relative;}#sk-container-id-1 div.sk-text-repr-fallback {display: none;}</style><div id=\"sk-container-id-1\" class=\"sk-top-container\"><div class=\"sk-text-repr-fallback\"><pre>MultinomialNB()</pre><b>In a Jupyter environment, please rerun this cell to show the HTML representation or trust the notebook. <br />On GitHub, the HTML representation is unable to render, please try loading this page with nbviewer.org.</b></div><div class=\"sk-container\" hidden><div class=\"sk-item\"><div class=\"sk-estimator sk-toggleable\"><input class=\"sk-toggleable__control sk-hidden--visually\" id=\"sk-estimator-id-1\" type=\"checkbox\" checked><label for=\"sk-estimator-id-1\" class=\"sk-toggleable__label sk-toggleable__label-arrow\">MultinomialNB</label><div class=\"sk-toggleable__content\"><pre>MultinomialNB()</pre></div></div></div></div></div>"
            ],
            "text/plain": [
              "MultinomialNB()"
            ]
          },
          "execution_count": 22,
          "metadata": {},
          "output_type": "execute_result"
        }
      ],
      "source": [
        "from sklearn.naive_bayes import MultinomialNB\n",
        "x_train, x_validation, y_train, y_test = train_test_split(x, y, test_size = 0.3, random_state = 450)\n",
        "nb =  MultinomialNB()\n",
        "# nb = GaussianNB(priors=None, var_smoothing=1e-09)\n",
        "nb_model = nb.fit(x_train, y_train)\n",
        "y_pred = nb_model.predict(x_validation)  # predict\n",
        "nb_model"
      ]
    },
    {
      "cell_type": "code",
      "execution_count": 23,
      "metadata": {},
      "outputs": [
        {
          "data": {
            "text/plain": [
              "0.6637168141592921"
            ]
          },
          "execution_count": 23,
          "metadata": {},
          "output_type": "execute_result"
        }
      ],
      "source": [
        "accuracy_score(y_test, y_pred)\n"
      ]
    },
    {
      "cell_type": "code",
      "execution_count": 24,
      "metadata": {},
      "outputs": [],
      "source": [
        "# cross_val_score(lr_model, x_test, y_test, cv = 10).mean()"
      ]
    },
    {
      "cell_type": "code",
      "execution_count": 25,
      "metadata": {},
      "outputs": [
        {
          "name": "stdout",
          "output_type": "stream",
          "text": [
            "              precision    recall  f1-score   support\n",
            "\n",
            "         0.0       0.68      0.70      0.69        60\n",
            "         1.0       0.65      0.62      0.63        53\n",
            "\n",
            "    accuracy                           0.66       113\n",
            "   macro avg       0.66      0.66      0.66       113\n",
            "weighted avg       0.66      0.66      0.66       113\n",
            "\n"
          ]
        }
      ],
      "source": [
        "print(classification_report(y_test, y_pred)) # get detail print"
      ]
    },
    {
      "cell_type": "code",
      "execution_count": 33,
      "metadata": {},
      "outputs": [
        {
          "data": {
            "image/png": "[encoded data removed]",
            "text/plain": [
              "<Figure size 432x288 with 2 Axes>"
            ]
          },
          "metadata": {
            "needs_background": "light"
          },
          "output_type": "display_data"
        }
      ],
      "source": [
        "from sklearn.metrics import plot_confusion_matrix\n",
        "from sklearn import svm\n",
        "import numpy as np    # linear algebra\n",
        "import pandas as pd   # data processing, CSV file I/O (e.g. pd.read_csv)\n",
        "import sys\n",
        "import scipy\n",
        "import matplotlib\n",
        "import sklearn\n",
        "from mlxtend.plotting import plot_decision_regions\n",
        "from sklearn.naive_bayes import MultinomialNB\n",
        "data = pd.read_csv (r'C:\\Users\\nizar.maarouf\\Desktop\\Final_Progect_Ruppin\\CSV_Files\\Arabic_Words10.csv').head(450)\n",
        "data.drop(\"Word\", inplace = True, axis=1) \n",
        "y = data['Outcome'].values\n",
        "x = data.drop([\"Outcome\"], axis = 1)\n",
        "x_train, x_test, y_train, y_test = train_test_split(x, y, test_size = 0.3, random_state = 450)\n",
        "nb =  MultinomialNB()\n",
        "nb_model.fit(x_train, y_train)\n",
        "matrix = plot_confusion_matrix(nb_model, x_test, y_test,cmap=plt.cm.Greens,normalize='true')\n",
        "plt.title('Confusion matrix for our classifier')\n",
        "plt.show(matrix)\n",
        "plt.show()"
      ]
    },
    {
      "cell_type": "code",
      "execution_count": 340,
      "metadata": {},
      "outputs": [],
      "source": [
        "# nb_model.predict(x_validation)[0:45]"
      ]
    },
    {
      "cell_type": "code",
      "execution_count": 339,
      "metadata": {},
      "outputs": [],
      "source": [
        "# nb_model.predict_proba(x_validation)[0:25]"
      ]
    },
    {
      "cell_type": "markdown",
      "metadata": {},
      "source": [
        "## ##########################################################################################################################################################################"
      ]
    },
    {
      "cell_type": "markdown",
      "metadata": {},
      "source": [
        "## KNN"
      ]
    },
    {
      "cell_type": "code",
      "execution_count": 4,
      "metadata": {},
      "outputs": [
        {
          "ename": "NameError",
          "evalue": "name 'train_test_split' is not defined",
          "output_type": "error",
          "traceback": [
            "\u001b[1;31m---------------------------------------------------------------------------\u001b[0m",
            "\u001b[1;31mNameError\u001b[0m                                 Traceback (most recent call last)",
            "\u001b[1;32mc:\\Users\\nizar.maarouf\\Desktop\\Final_Progect_Ruppin\\Python_Files\\IPYNB\\04\\plot_classifier_comparison.ipynb Cell 48'\u001b[0m in \u001b[0;36m<cell line: 1>\u001b[1;34m()\u001b[0m\n\u001b[1;32m----> <a href='vscode-notebook-cell:/c%3A/Users/nizar.maarouf/Desktop/Final_Progect_Ruppin/Python_Files/IPYNB/04/plot_classifier_comparison.ipynb#ch0000047?line=0'>1</a>\u001b[0m x_train, x_validation, y_train, y_test \u001b[39m=\u001b[39m train_test_split(x, y, test_size \u001b[39m=\u001b[39m \u001b[39m0.33\u001b[39m, random_state \u001b[39m=\u001b[39m \u001b[39m252\u001b[39m)\n\u001b[0;32m      <a href='vscode-notebook-cell:/c%3A/Users/nizar.maarouf/Desktop/Final_Progect_Ruppin/Python_Files/IPYNB/04/plot_classifier_comparison.ipynb#ch0000047?line=1'>2</a>\u001b[0m \u001b[39m# Predict & Model\u001b[39;00m\n\u001b[0;32m      <a href='vscode-notebook-cell:/c%3A/Users/nizar.maarouf/Desktop/Final_Progect_Ruppin/Python_Files/IPYNB/04/plot_classifier_comparison.ipynb#ch0000047?line=2'>3</a>\u001b[0m \u001b[39m# knn = KNeighborsClassifier(n_neighbors=8)\u001b[39;00m\n\u001b[0;32m      <a href='vscode-notebook-cell:/c%3A/Users/nizar.maarouf/Desktop/Final_Progect_Ruppin/Python_Files/IPYNB/04/plot_classifier_comparison.ipynb#ch0000047?line=3'>4</a>\u001b[0m knn \u001b[39m=\u001b[39m KNeighborsClassifier(algorithm\u001b[39m=\u001b[39m\u001b[39m'\u001b[39m\u001b[39mauto\u001b[39m\u001b[39m'\u001b[39m, leaf_size\u001b[39m=\u001b[39m\u001b[39m30\u001b[39m, metric\u001b[39m=\u001b[39m\u001b[39m'\u001b[39m\u001b[39mminkowski\u001b[39m\u001b[39m'\u001b[39m,\n\u001b[0;32m      <a href='vscode-notebook-cell:/c%3A/Users/nizar.maarouf/Desktop/Final_Progect_Ruppin/Python_Files/IPYNB/04/plot_classifier_comparison.ipynb#ch0000047?line=4'>5</a>\u001b[0m                      metric_params\u001b[39m=\u001b[39m\u001b[39mNone\u001b[39;00m, n_jobs\u001b[39m=\u001b[39m\u001b[39mNone\u001b[39;00m, n_neighbors\u001b[39m=\u001b[39m\u001b[39m8\u001b[39m, p\u001b[39m=\u001b[39m\u001b[39m2\u001b[39m,\n\u001b[0;32m      <a href='vscode-notebook-cell:/c%3A/Users/nizar.maarouf/Desktop/Final_Progect_Ruppin/Python_Files/IPYNB/04/plot_classifier_comparison.ipynb#ch0000047?line=5'>6</a>\u001b[0m                      weights\u001b[39m=\u001b[39m\u001b[39m'\u001b[39m\u001b[39muniform\u001b[39m\u001b[39m'\u001b[39m)\n",
            "\u001b[1;31mNameError\u001b[0m: name 'train_test_split' is not defined"
          ]
        }
      ],
      "source": [
        "x_train, x_validation, y_train, y_test = train_test_split(x, y, test_size = 0.33, random_state = 252)\n",
        "# Predict & Model\n",
        "# knn = KNeighborsClassifier(n_neighbors=8)\n",
        "knn = KNeighborsClassifier(algorithm='auto', leaf_size=30, metric='minkowski',\n",
        "                     metric_params=None, n_jobs=None, n_neighbors=8, p=2,\n",
        "                     weights='uniform')\n",
        "knn_model = knn.fit(x_train, y_train)\n",
        "knn_model"
      ]
    },
    {
      "cell_type": "code",
      "execution_count": 28,
      "metadata": {},
      "outputs": [
        {
          "data": {
            "text/plain": [
              "0.88"
            ]
          },
          "execution_count": 28,
          "metadata": {},
          "output_type": "execute_result"
        }
      ],
      "source": [
        "y_pred = knn.predict(x_validation)\n",
        "accuracy_score(y_test, y_pred)"
      ]
    },
    {
      "cell_type": "code",
      "execution_count": 29,
      "metadata": {},
      "outputs": [
        {
          "name": "stdout",
          "output_type": "stream",
          "text": [
            "              precision    recall  f1-score   support\n",
            "\n",
            "         0.0       0.87      0.91      0.89        64\n",
            "         1.0       0.90      0.85      0.87        61\n",
            "\n",
            "    accuracy                           0.88       125\n",
            "   macro avg       0.88      0.88      0.88       125\n",
            "weighted avg       0.88      0.88      0.88       125\n",
            "\n"
          ]
        }
      ],
      "source": [
        "print(classification_report(y_test, y_pred)) # get detail print"
      ]
    },
    {
      "cell_type": "code",
      "execution_count": 34,
      "metadata": {},
      "outputs": [
        {
          "data": {
            "image/png": "[encoded data removed]",
            "text/plain": [
              "<Figure size 432x288 with 2 Axes>"
            ]
          },
          "metadata": {
            "needs_background": "light"
          },
          "output_type": "display_data"
        }
      ],
      "source": [
        "from sklearn.metrics import plot_confusion_matrix\n",
        "from sklearn import svm\n",
        "import numpy as np    # linear algebra\n",
        "import pandas as pd   # data processing, CSV file I/O (e.g. pd.read_csv)\n",
        "import sys\n",
        "import scipy\n",
        "import matplotlib\n",
        "import sklearn\n",
        "from mlxtend.plotting import plot_decision_regions\n",
        "data = pd.read_csv (r'C:\\Users\\nizar.maarouf\\Desktop\\Final_Progect_Ruppin\\CSV_Files\\Arabic_Words10.csv').head(450)\n",
        "data.drop(\"Word\", inplace = True, axis=1) \n",
        "y = data['Outcome'].values\n",
        "x = data.drop([\"Outcome\"], axis = 1)\n",
        "x_train, x_test, y_train, y_test = train_test_split(x, y, test_size = 0.3, random_state = 450)\n",
        "knn_model = KNeighborsClassifier(n_neighbors=8)\n",
        "knn_model.fit(x_train, y_train)\n",
        "matrix = plot_confusion_matrix(knn_model, x_test, y_test,cmap=plt.cm.Greens,normalize='true')\n",
        "plt.title('Confusion matrix for our classifier')\n",
        "plt.show(matrix)\n",
        "plt.show()"
      ]
    },
    {
      "cell_type": "markdown",
      "metadata": {},
      "source": [
        "## Model Tunning"
      ]
    },
    {
      "cell_type": "code",
      "execution_count": 71,
      "metadata": {},
      "outputs": [],
      "source": [
        "# knn_params = {\"n_neighbors\": np.arange(1,50)}   # find KNN parameters"
      ]
    },
    {
      "cell_type": "code",
      "execution_count": 338,
      "metadata": {},
      "outputs": [],
      "source": [
        "# fit model classification & CV\n",
        "# knn = KNeighborsClassifier(n_neighbors=8)\n",
        "# knn_cv = GridSearchCV(knn, knn_params, cv=10)\n",
        "# knn_cv.fit(x_train, y_train)"
      ]
    },
    {
      "cell_type": "code",
      "execution_count": 337,
      "metadata": {},
      "outputs": [],
      "source": [
        "# print(\"Best score:\" + str(knn_cv.best_score_))\n",
        "# print(\"Best parameters: \" + str(knn_cv.best_params_))"
      ]
    },
    {
      "cell_type": "code",
      "execution_count": 74,
      "metadata": {},
      "outputs": [],
      "source": [
        "# knn = KNeighborsClassifier(3)\n",
        "# knn_tuned = knn.fit(x_train, y_train)"
      ]
    },
    {
      "cell_type": "code",
      "execution_count": 336,
      "metadata": {},
      "outputs": [],
      "source": [
        "# knn.score(x_test, y_test)"
      ]
    },
    {
      "cell_type": "code",
      "execution_count": 335,
      "metadata": {},
      "outputs": [],
      "source": [
        "# y_pred = knn.predict(x_test)\n",
        "# accuracy_score(y_test, y_pred)"
      ]
    },
    {
      "cell_type": "markdown",
      "metadata": {},
      "source": [
        "## ####################################################################################################################################################################"
      ]
    },
    {
      "cell_type": "markdown",
      "metadata": {},
      "source": [
        "## Random Forest "
      ]
    },
    {
      "cell_type": "code",
      "execution_count": 334,
      "metadata": {},
      "outputs": [],
      "source": [
        "# rf_model = RandomForestClassifier().fit(X_train, y_train)\n",
        "# rf_model"
      ]
    },
    {
      "cell_type": "code",
      "execution_count": 333,
      "metadata": {},
      "outputs": [],
      "source": [
        "# y_pred = rf_model.predict(X_test)\n",
        "# accuracy_score(y_test, y_pred)"
      ]
    },
    {
      "cell_type": "markdown",
      "metadata": {},
      "source": [
        "## Model Tuning"
      ]
    },
    {
      "cell_type": "code",
      "execution_count": 449,
      "metadata": {},
      "outputs": [],
      "source": [
        "# rf_params = {\"max_depth\": [2,5,8,10],\n",
        "#             \"max_features\": [2,5,8],\n",
        "#             \"n_estimators\": [10,500,1000],\n",
        "#             \"min_samples_split\": [2,5,10]}"
      ]
    },
    {
      "cell_type": "code",
      "execution_count": 450,
      "metadata": {},
      "outputs": [],
      "source": [
        "# rf_model = RandomForestClassifier()\n",
        "\n",
        "# rf_cv_model = GridSearchCV(rf_model, \n",
        "#                            rf_params, \n",
        "#                            cv = 10, \n",
        "#                            n_jobs = -1, \n",
        "#                            verbose = 2) "
      ]
    },
    {
      "cell_type": "code",
      "execution_count": 332,
      "metadata": {},
      "outputs": [],
      "source": [
        "# rf_cv_model.fit(X_train, y_train)"
      ]
    },
    {
      "cell_type": "code",
      "execution_count": 331,
      "metadata": {},
      "outputs": [],
      "source": [
        "# print(\"Best Parameters: \" + str(rf_cv_model.best_params_))"
      ]
    },
    {
      "cell_type": "code",
      "execution_count": 330,
      "metadata": {},
      "outputs": [],
      "source": [
        "# # using given parameters then create final model\n",
        "# rf_tuned = RandomForestClassifier(max_depth = 2, \n",
        "#                                   max_features = 5, \n",
        "#                                   min_samples_split = 10,\n",
        "#                                   n_estimators = 10)\n",
        "\n",
        "# rf_tuned.fit(X_train, y_train)"
      ]
    },
    {
      "cell_type": "code",
      "execution_count": 329,
      "metadata": {},
      "outputs": [],
      "source": [
        "# # tunned test model predict accuracy score\n",
        "# y_pred = rf_tuned.predict(X_test)\n",
        "# accuracy_score(y_test, y_pred)"
      ]
    },
    {
      "cell_type": "markdown",
      "metadata": {},
      "source": [
        "## Support vector machine (SVM)"
      ]
    },
    {
      "cell_type": "code",
      "execution_count": 6,
      "metadata": {},
      "outputs": [],
      "source": [
        "x_train, x_validation, y_train, y_test = train_test_split(x, y, test_size = 0.3, random_state = 450)"
      ]
    },
    {
      "cell_type": "code",
      "execution_count": 7,
      "metadata": {},
      "outputs": [
        {
          "data": {
            "text/html": [
              "<style>#sk-container-id-1 {color: black;background-color: white;}#sk-container-id-1 pre{padding: 0;}#sk-container-id-1 div.sk-toggleable {background-color: white;}#sk-container-id-1 label.sk-toggleable__label {cursor: pointer;display: block;width: 100%;margin-bottom: 0;padding: 0.3em;box-sizing: border-box;text-align: center;}#sk-container-id-1 label.sk-toggleable__label-arrow:before {content: \"▸\";float: left;margin-right: 0.25em;color: #696969;}#sk-container-id-1 label.sk-toggleable__label-arrow:hover:before {color: black;}#sk-container-id-1 div.sk-estimator:hover label.sk-toggleable__label-arrow:before {color: black;}#sk-container-id-1 div.sk-toggleable__content {max-height: 0;max-width: 0;overflow: hidden;text-align: left;background-color: #f0f8ff;}#sk-container-id-1 div.sk-toggleable__content pre {margin: 0.2em;color: black;border-radius: 0.25em;background-color: #f0f8ff;}#sk-container-id-1 input.sk-toggleable__control:checked~div.sk-toggleable__content {max-height: 200px;max-width: 100%;overflow: auto;}#sk-container-id-1 input.sk-toggleable__control:checked~label.sk-toggleable__label-arrow:before {content: \"▾\";}#sk-container-id-1 div.sk-estimator input.sk-toggleable__control:checked~label.sk-toggleable__label {background-color: #d4ebff;}#sk-container-id-1 div.sk-label input.sk-toggleable__control:checked~label.sk-toggleable__label {background-color: #d4ebff;}#sk-container-id-1 input.sk-hidden--visually {border: 0;clip: rect(1px 1px 1px 1px);clip: rect(1px, 1px, 1px, 1px);height: 1px;margin: -1px;overflow: hidden;padding: 0;position: absolute;width: 1px;}#sk-container-id-1 div.sk-estimator {font-family: monospace;background-color: #f0f8ff;border: 1px dotted black;border-radius: 0.25em;box-sizing: border-box;margin-bottom: 0.5em;}#sk-container-id-1 div.sk-estimator:hover {background-color: #d4ebff;}#sk-container-id-1 div.sk-parallel-item::after {content: \"\";width: 100%;border-bottom: 1px solid gray;flex-grow: 1;}#sk-container-id-1 div.sk-label:hover label.sk-toggleable__label {background-color: #d4ebff;}#sk-container-id-1 div.sk-serial::before {content: \"\";position: absolute;border-left: 1px solid gray;box-sizing: border-box;top: 0;bottom: 0;left: 50%;z-index: 0;}#sk-container-id-1 div.sk-serial {display: flex;flex-direction: column;align-items: center;background-color: white;padding-right: 0.2em;padding-left: 0.2em;position: relative;}#sk-container-id-1 div.sk-item {position: relative;z-index: 1;}#sk-container-id-1 div.sk-parallel {display: flex;align-items: stretch;justify-content: center;background-color: white;position: relative;}#sk-container-id-1 div.sk-item::before, #sk-container-id-1 div.sk-parallel-item::before {content: \"\";position: absolute;border-left: 1px solid gray;box-sizing: border-box;top: 0;bottom: 0;left: 50%;z-index: -1;}#sk-container-id-1 div.sk-parallel-item {display: flex;flex-direction: column;z-index: 1;position: relative;background-color: white;}#sk-container-id-1 div.sk-parallel-item:first-child::after {align-self: flex-end;width: 50%;}#sk-container-id-1 div.sk-parallel-item:last-child::after {align-self: flex-start;width: 50%;}#sk-container-id-1 div.sk-parallel-item:only-child::after {width: 0;}#sk-container-id-1 div.sk-dashed-wrapped {border: 1px dashed gray;margin: 0 0.4em 0.5em 0.4em;box-sizing: border-box;padding-bottom: 0.4em;background-color: white;}#sk-container-id-1 div.sk-label label {font-family: monospace;font-weight: bold;display: inline-block;line-height: 1.2em;}#sk-container-id-1 div.sk-label-container {text-align: center;}#sk-container-id-1 div.sk-container {/* jupyter's `normalize.less` sets `[hidden] { display: none; }` but bootstrap.min.css set `[hidden] { display: none !important; }` so we also need the `!important` here to be able to override the default hidden behavior on the sphinx rendered scikit-learn.org. See: https://github.com/scikit-learn/scikit-learn/issues/21755 */display: inline-block !important;position: relative;}#sk-container-id-1 div.sk-text-repr-fallback {display: none;}</style><div id=\"sk-container-id-1\" class=\"sk-top-container\"><div class=\"sk-text-repr-fallback\"><pre>SVC(gamma=&#x27;auto&#x27;)</pre><b>In a Jupyter environment, please rerun this cell to show the HTML representation or trust the notebook. <br />On GitHub, the HTML representation is unable to render, please try loading this page with nbviewer.org.</b></div><div class=\"sk-container\" hidden><div class=\"sk-item\"><div class=\"sk-estimator sk-toggleable\"><input class=\"sk-toggleable__control sk-hidden--visually\" id=\"sk-estimator-id-1\" type=\"checkbox\" checked><label for=\"sk-estimator-id-1\" class=\"sk-toggleable__label sk-toggleable__label-arrow\">SVC</label><div class=\"sk-toggleable__content\"><pre>SVC(gamma=&#x27;auto&#x27;)</pre></div></div></div></div></div>"
            ],
            "text/plain": [
              "SVC(gamma='auto')"
            ]
          },
          "execution_count": 7,
          "metadata": {},
          "output_type": "execute_result"
        }
      ],
      "source": [
        "vsm_model = SVC(gamma='auto')\n",
        "vsm_model.fit(x_train, y_train)\n",
        "y_pred = vsm_model.predict(x_validation)\n",
        "# vsm_model.score(x_validation, y_test)\n",
        "vsm_model"
      ]
    },
    {
      "cell_type": "code",
      "execution_count": 8,
      "metadata": {},
      "outputs": [
        {
          "data": {
            "text/plain": [
              "0.890625"
            ]
          },
          "execution_count": 8,
          "metadata": {},
          "output_type": "execute_result"
        }
      ],
      "source": [
        "accuracy_score(y_test, y_pred)"
      ]
    },
    {
      "cell_type": "code",
      "execution_count": 9,
      "metadata": {},
      "outputs": [
        {
          "name": "stdout",
          "output_type": "stream",
          "text": [
            "              precision    recall  f1-score   support\n",
            "\n",
            "           0       0.89      0.92      0.91        73\n",
            "           1       0.89      0.85      0.87        55\n",
            "\n",
            "    accuracy                           0.89       128\n",
            "   macro avg       0.89      0.89      0.89       128\n",
            "weighted avg       0.89      0.89      0.89       128\n",
            "\n"
          ]
        }
      ],
      "source": [
        "print(classification_report(y_test, y_pred)) # get detail print"
      ]
    },
    {
      "cell_type": "code",
      "execution_count": 10,
      "metadata": {},
      "outputs": [
        {
          "name": "stdout",
          "output_type": "stream",
          "text": [
            "<sklearn.metrics._plot.confusion_matrix.ConfusionMatrixDisplay object at 0x000001EA1FDA1370>\n"
          ]
        },
        {
          "data": {
            "image/png": "[encoded data removed]",
            "text/plain": [
              "<Figure size 432x288 with 2 Axes>"
            ]
          },
          "metadata": {
            "needs_background": "light"
          },
          "output_type": "display_data"
        }
      ],
      "source": [
        "from sklearn.metrics import plot_confusion_matrix\n",
        "from sklearn import svm\n",
        "import numpy as np    # linear algebra\n",
        "import pandas as pd   # data processing, CSV file I/O (e.g. pd.read_csv)\n",
        "import sys\n",
        "import scipy\n",
        "import matplotlib\n",
        "import sklearn\n",
        "from mlxtend.plotting import plot_decision_regions\n",
        "data = pd.read_csv (r'C:\\Users\\nizar.maarouf\\Desktop\\Final_Progect_Ruppin\\CSV_Files\\Data.csv').head(450)\n",
        "data.drop(\"Word\", inplace = True, axis=1) \n",
        "y = data['Outcome'].values\n",
        "x = data.drop([\"Outcome\"], axis = 1)\n",
        "x_train, x_test, y_train, y_test = train_test_split(x, y, test_size = 0.3, random_state = 450)\n",
        "vsm_model = svm.SVC(gamma=\"auto\")\n",
        "vsm_model.fit(x_train, y_train)\n",
        "matrix = plot_confusion_matrix(vsm_model, x_test, y_test,cmap=plt.cm.Greens,normalize='true')\n",
        "plt.title('Confusion matrix for our classifier')\n",
        "print(matrix)\n",
        "# plt.show()"
      ]
    },
    {
      "cell_type": "code",
      "execution_count": 326,
      "metadata": {},
      "outputs": [],
      "source": [
        "# len(x),(y)"
      ]
    },
    {
      "cell_type": "markdown",
      "metadata": {},
      "source": [
        "## ####################################################################################################################################################################"
      ]
    },
    {
      "cell_type": "code",
      "execution_count": 565,
      "metadata": {},
      "outputs": [],
      "source": [
        "# data.drop(\"Word\", inplace = True, axis=1)\n",
        "\n",
        "# y = data.Outcome.values\n",
        "# x = data.drop([\"Outcome\"], axis = 1)"
      ]
    },
    {
      "cell_type": "code",
      "execution_count": 328,
      "metadata": {},
      "outputs": [],
      "source": [
        "# y_pred = lr_model.predict(x)       \n",
        "# confusion_matrix(y, y_pred)"
      ]
    },
    {
      "cell_type": "code",
      "execution_count": 327,
      "metadata": {},
      "outputs": [],
      "source": [
        "# y_probs = lr_model.predict_proba(x)\n",
        "# y_probs = y_probs[:,1]\n",
        "# y_probs[0:20]"
      ]
    },
    {
      "cell_type": "code",
      "execution_count": 11,
      "metadata": {},
      "outputs": [
        {
          "name": "stdout",
          "output_type": "stream",
          "text": [
            "\n",
            "SVM: 0.89 (0.061)\n",
            "\n",
            "KNN: 0.87 (0.065)\n",
            "\n",
            "NB: 0.65 (0.067)\n"
          ]
        }
      ],
      "source": [
        "import pandas as pd   \n",
        "from sklearn.model_selection import train_test_split,cross_val_score\n",
        "from sklearn.neighbors import KNeighborsClassifier\n",
        "from sklearn.svm import SVC\n",
        "from sklearn.naive_bayes import MultinomialNB\n",
        "from sklearn.model_selection import StratifiedKFold\n",
        "\n",
        "scoring= 'accuracy'\n",
        "data = pd.read_csv (r'C:\\Users\\nizar.maarouf\\Desktop\\Final_Progect_Ruppin\\CSV_Files\\Data.csv').head(450)\n",
        "data.drop(\"Word\", inplace = True, axis=1) \n",
        "y = data['Outcome'].values\n",
        "x = data.drop([\"Outcome\"], axis = 1)\n",
        "x_train, x_test, y_train, y_test = train_test_split(x, y, test_size = None, random_state = None)\n",
        "models= []\n",
        "# models.append(('LR', LogisticRegression()))\n",
        "# models.append(('RF', RandomForestClassifier()))\n",
        "\n",
        "models.append(('SVM', SVC(gamma='auto')))\n",
        "models.append(('KNN', KNeighborsClassifier(n_neighbors=8)))\n",
        "models.append(('NB', MultinomialNB()))\n",
        "\n",
        "results = []\n",
        "names = []\n",
        "for name, model in models:\n",
        "    kfold = StratifiedKFold(n_splits=10, random_state=None)\n",
        "    cv_results = cross_val_score(model, x_train, y_train, cv=kfold, scoring=scoring)\n",
        "    results.append(cv_results)\n",
        "    names.append(name)\n",
        "    msg = '%s: %.2f (%.3f)' % (name, cv_results.mean(), cv_results.std())\n",
        "    print('\\n' + msg)"
      ]
    },
    {
      "cell_type": "code",
      "execution_count": 12,
      "metadata": {},
      "outputs": [
        {
          "data": {
            "image/png": "[encoded data removed]",
            "text/plain": [
              "<Figure size 432x288 with 1 Axes>"
            ]
          },
          "metadata": {
            "needs_background": "light"
          },
          "output_type": "display_data"
        }
      ],
      "source": [
        "#comparing algorithms\n",
        "fig = plt.figure()\n",
        "fig.suptitle('Algorithm Comparision',color = \"r\", size = 15)\n",
        "ax = fig.add_subplot(111)\n",
        "plt.boxplot(results)\n",
        "ax.set_xticklabels(names)\n",
        "plt.show()"
      ]
    }
  ],
  "metadata": {
    "kernelspec": {
      "display_name": "Python 3.9.13 64-bit",
      "language": "python",
      "name": "python3"
    },
    "language_info": {
      "codemirror_mode": {
        "name": "ipython",
        "version": 3
      },
      "file_extension": ".py",
      "mimetype": "text/x-python",
      "name": "python",
      "nbconvert_exporter": "python",
      "pygments_lexer": "ipython3",
      "version": "3.9.13"
    },
    "vscode": {
      "interpreter": {
        "hash": "11938c6bc6919ae2720b4d5011047913343b08a43b18698fd82dedb0d4417594"
      }
    }
  },
  "nbformat": 4,
  "nbformat_minor": 0
}
