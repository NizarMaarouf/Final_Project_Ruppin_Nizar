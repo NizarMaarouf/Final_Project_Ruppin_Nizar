{
 "cells": [
  {
   "cell_type": "code",
   "execution_count": 1,
   "metadata": {},
   "outputs": [
    {
     "name": "stdout",
     "output_type": "stream",
     "text": [
      " هذه الكتمة تبدأ بهمز  :   وصل \n"
     ]
    }
   ],
   "source": [
    "# 4,6,0,0,0,2,0,3\n",
    "# 4,1,0,0,0,2,0,2\n",
    "# 4,2,0,0,0,1,0,3\n",
    "from sklearn import svm\n",
    "import numpy as np    # linear algebra\n",
    "import pandas as pd   # data processing, CSV file I/O (e.g. pd.read_csv)\n",
    "import sys\n",
    "import scipy\n",
    "import matplotlib\n",
    "import joblib\n",
    "from mlxtend.plotting import plot_decision_regions\n",
    "from sklearn.model_selection import train_test_split, GridSearchCV, cross_val_score\n",
    "from sklearn.metrics import plot_confusion_matrix, accuracy_score, classification_report\n",
    "from matplotlib import pyplot as plt\n",
    "# import warnings filter\n",
    "from warnings import simplefilter\n",
    "# ignore all future warnings\n",
    "simplefilter(action='ignore', category=FutureWarning)\n",
    "\n",
    "data = pd.read_csv (r'C:\\Users\\nizar.maarouf\\Desktop\\Final_Progect_Ruppin\\DATA\\CSV_Files\\Data.csv').head(426)\n",
    "data.drop(\"Word\", inplace = True, axis=1) \n",
    "y = data['Outcome']\n",
    "x = data.drop([\"Outcome\"], axis = 1)\n",
    "x = x.values\n",
    "x_train, x_test, y_train, y_test = train_test_split(x, y, test_size = 0.1, random_state =0)\n",
    "vsm_model = svm.SVC(gamma=\"auto\")\n",
    "vsm_model.fit(x_train, y_train)\n",
    "Input_Vector = [4,2,0,0,0,1,0,3]\n",
    "predictions = vsm_model.predict([Input_Vector])\n",
    "\n",
    "if (predictions == 0):\n",
    "    predictions = ' قطع '\n",
    "elif(predictions == 1):\n",
    "    predictions = ' وصل '\n",
    "else:\n",
    "    predictions = ' هذه الكتمة لا تبدأ بهمزة وصل أو قطع '  \n",
    "\n",
    "print(' هذه الكتمة تبدأ بهمز  : ' , predictions)\n",
    "# matrix = plot_confusion_matrix(vsm_model, x_test, y_test,cmap=plt.cm.Blues,normalize='true')\n",
    "# plt.title('Confusion matrix for our classifier')\n",
    "# plt.show(matrix)\n",
    "# plt.show()\n",
    "\n"
   ]
  }
 ],
 "metadata": {
  "kernelspec": {
   "display_name": "Python 3.9.13 64-bit",
   "language": "python",
   "name": "python3"
  },
  "language_info": {
   "codemirror_mode": {
    "name": "ipython",
    "version": 3
   },
   "file_extension": ".py",
   "mimetype": "text/x-python",
   "name": "python",
   "nbconvert_exporter": "python",
   "pygments_lexer": "ipython3",
   "version": "3.9.13"
  },
  "orig_nbformat": 4,
  "vscode": {
   "interpreter": {
    "hash": "11938c6bc6919ae2720b4d5011047913343b08a43b18698fd82dedb0d4417594"
   }
  }
 },
 "nbformat": 4,
 "nbformat_minor": 2
}
