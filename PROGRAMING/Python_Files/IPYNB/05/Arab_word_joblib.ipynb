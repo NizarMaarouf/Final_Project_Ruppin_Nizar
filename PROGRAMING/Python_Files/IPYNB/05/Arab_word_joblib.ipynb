{
 "cells": [
  {
   "cell_type": "code",
   "execution_count": 63,
   "metadata": {},
   "outputs": [
    {
     "name": "stdout",
     "output_type": "stream",
     "text": [
      "The Outcome of this vector is :  [' همزة وصل ']\n",
      "Accuracy:  0.8733333333333333\n",
      "\n",
      "\n",
      "\n",
      "\n",
      "\n",
      "\n"
     ]
    }
   ],
   "source": [
    "\n",
    "###############################\n",
    "# model = DecisionTreeClassifier(max_depth=4)\n",
    "#['Count' ,'Noun' , 'Verb' , 'Letter' , 'adjective' , 'morphological' ,'The','diacritic']\n",
    "# create tree\n",
    "# tree.plot_tree(model, feature_name = ['Count' ,'Noun' , 'Verb' , 'Letter' , 'adjective' , 'morphological' ,'The','diacritic'],\n",
    "# class_names= y_tr,label='all', round=True , filled=True)\n",
    "# model = joblib.load('Arabic_word.joblib')\n",
    "# dot_data = tree.export_graphviz(model ,out_file=None)\n",
    "# graph = tree(dot_data)\n",
    "# graph\n",
    "################################\n",
    "\n",
    "# 4,6,0,0,0,2,0,3\n",
    "# 4,1,0,0,0,2,0,2\n",
    "# 4,2,0,0,0,1,0,3\n",
    "\n",
    "# Step1: Import required packages\n",
    "import joblib \n",
    "import matplotlib\n",
    "import pandas as pd\n",
    "from sklearn import svm\n",
    "from sklearn import tree\n",
    "from sklearn.svm import LinearSVC,SVC\n",
    "from sklearn.naive_bayes import GaussianNB\n",
    "from sklearn.tree import DecisionTreeClassifier\n",
    "from matplotlib import pyplot as plt\n",
    "from mlxtend.plotting import plot_decision_regions\n",
    "from sklearn.neighbors import KNeighborsClassifier\n",
    "from sklearn.ensemble import RandomForestClassifier, AdaBoostClassifier\n",
    "from sklearn.model_selection import train_test_split, GridSearchCV, cross_val_score\n",
    "from sklearn.metrics import plot_confusion_matrix,mean_absolute_error,r2_score, accuracy_score, classification_report\n",
    "\n",
    "# import warnings filter\n",
    "from warnings import simplefilter\n",
    "# ignore all future warnings\n",
    "simplefilter(action='ignore', category=FutureWarning)\n",
    "\n",
    "\n",
    "# Step2: Load dataset\n",
    "Arabic_word = pd.read_csv(r'C:\\Users\\nizar.maarouf\\Desktop\\Final_Progect_Ruppin\\CSV_Files\\Data.csv')\n",
    "\n",
    "# Step 3: Split the data in training and testing subsets\n",
    "x = Arabic_word.drop(columns = ['Outcome' , 'Word'])\n",
    "x = x.values\n",
    "  \n",
    "y = Arabic_word['Outcome']\n",
    "x_tr, x_ts, y_tr, y_ts = train_test_split(x,y,test_size=0.35)\n",
    "\n",
    "\n",
    "# Step 4: Classifier training using Support Vector Machine\n",
    "\n",
    "## SVC(kernel=\"linear\", C=0.025)\n",
    "## SVC(kernel=\"poly\", degree=3, C=0.025)\n",
    "## SVC(kernel=\"rbf\", C=1, gamma=2)\n",
    "## DecisionTreeClassifier(max_depth=5)\n",
    "## GaussianNB()\n",
    "## KNeighborsClassifier(algorithm='auto', leaf_size=30, metric='minkowski',\n",
    "##                     metric_params=None, n_jobs=None, n_neighbors=8, p=2,\n",
    "##                     weights='uniform')\n",
    "\n",
    "model = SVC(gamma='auto')\n",
    "model.fit(x_tr,y_tr)\n",
    "\n",
    "# Step 5: make predict on test data and see result\n",
    "Vector_Input = [4,2,0,0,0,1,0,3]\n",
    "predict_vector = model.predict(x_ts)\n",
    "predictions = model.predict([Vector_Input])\n",
    "\n",
    "if (predictions == 0):\n",
    "    predictions = [' همزة قطع ']\n",
    "    print('The Outcome of this vector is : ' ,predictions)\n",
    "    print(\"Accuracy: \",accuracy_score(y_ts, predict_vector))\n",
    "    predictions1 = [' همزة قطع-- ']\n",
    "   \n",
    "elif (predictions == 1 ):\n",
    "    predictions = [' همزة وصل ']\n",
    "    print('The Outcome of this vector is : ' ,predictions)\n",
    "    print(\"Accuracy: \",accuracy_score(y_ts, predict_vector))\n",
    "    predictions1 = [' همزة قطع-- ']\n",
    "\n",
    "else:\n",
    "    print('wrong !!!!!')    \n",
    "print('\\n')\n",
    "# Step 6: Check classifier accuracy on test data and see result\n",
    "\n",
    "# print('The Outcome of this vector is : ' ,predictions)\n",
    "\n",
    "print('\\n')\n",
    "# Step 7: plot the Confusion matrix for our classifier\n",
    "# matrix = plot_confusion_matrix(model, x_ts, y_ts,cmap=plt.cm.Reds,normalize='true')\n",
    "# plt.title('Confusion matrix for our classifier')\n",
    "# plt.show(matrix)\n",
    "\n",
    "\n",
    "print('\\n')"
   ]
  },
  {
   "cell_type": "code",
   "execution_count": 59,
   "metadata": {},
   "outputs": [],
   "source": [
    "from sklearn.metrics import plot_confusion_matrix,mean_absolute_error,r2_score"
   ]
  },
  {
   "cell_type": "code",
   "execution_count": 60,
   "metadata": {},
   "outputs": [
    {
     "name": "stdout",
     "output_type": "stream",
     "text": [
      "384    0\n",
      "81     1\n",
      "320    0\n",
      "101    0\n",
      "330    0\n",
      "      ..\n",
      "162    0\n",
      "125    1\n",
      "421    1\n",
      "255    1\n",
      "219    0\n",
      "Name: Outcome, Length: 150, dtype: int64\n"
     ]
    },
    {
     "data": {
      "text/plain": [
       "0.10666666666666667"
      ]
     },
     "execution_count": 60,
     "metadata": {},
     "output_type": "execute_result"
    }
   ],
   "source": [
    "mae = mean_absolute_error(y_ts , predict_vector)\n",
    "print(y_ts)\n",
    "mae"
   ]
  },
  {
   "cell_type": "code",
   "execution_count": 61,
   "metadata": {},
   "outputs": [
    {
     "data": {
      "text/plain": [
       "0.5601173020527859"
      ]
     },
     "execution_count": 61,
     "metadata": {},
     "output_type": "execute_result"
    }
   ],
   "source": [
    "r2 = r2_score(y_ts , predict_vector)\n",
    "r2"
   ]
  }
 ],
 "metadata": {
  "kernelspec": {
   "display_name": "Python 3.9.13 64-bit",
   "language": "python",
   "name": "python3"
  },
  "language_info": {
   "codemirror_mode": {
    "name": "ipython",
    "version": 3
   },
   "file_extension": ".py",
   "mimetype": "text/x-python",
   "name": "python",
   "nbconvert_exporter": "python",
   "pygments_lexer": "ipython3",
   "version": "3.9.13"
  },
  "orig_nbformat": 4,
  "vscode": {
   "interpreter": {
    "hash": "11938c6bc6919ae2720b4d5011047913343b08a43b18698fd82dedb0d4417594"
   }
  }
 },
 "nbformat": 4,
 "nbformat_minor": 2
}
